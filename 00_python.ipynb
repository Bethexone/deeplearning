{
 "cells": [
  {
   "cell_type": "markdown",
   "id": "b95a5e0c-3adf-4c60-a6d5-eb4f70d041c3",
   "metadata": {},
   "source": [
    "在 Python 中，变量的赋值操作是通过引用传递的，但对于不可变对象（**如整数、字符串、元组等**），每次赋值或修改操作实际上会**创建一个新的对象。**"
   ]
  },
  {
   "cell_type": "code",
   "execution_count": 1,
   "id": "32dd51ca-f08c-418e-8e88-59c326ba26c4",
   "metadata": {},
   "outputs": [],
   "source": [
    "a = 10"
   ]
  },
  {
   "cell_type": "code",
   "execution_count": 2,
   "id": "3e25da8e-3542-4320-b0cc-c4c24dddde9f",
   "metadata": {},
   "outputs": [],
   "source": [
    "def add(x):\n",
    "    x +=3"
   ]
  },
  {
   "cell_type": "code",
   "execution_count": 3,
   "id": "71dbd389-43b9-478d-9493-c7400c95cf30",
   "metadata": {},
   "outputs": [
    {
     "data": {
      "text/plain": [
       "10"
      ]
     },
     "execution_count": 3,
     "metadata": {},
     "output_type": "execute_result"
    }
   ],
   "source": [
    "add(a)\n",
    "a"
   ]
  },
  {
   "cell_type": "markdown",
   "id": "e0f2ef78-c1ed-4198-96a4-1484da0b5ae9",
   "metadata": {},
   "source": [
    "PyTorch 中的 **Tensor** 对象是**可变对象**。当你传递 Tensor 给函数并对其进行操作时，你直接在**原始的 Tensor 上进行修改**。"
   ]
  },
  {
   "cell_type": "code",
   "execution_count": 4,
   "id": "ddc4492a-a771-48dd-858a-4e9e858a4be8",
   "metadata": {},
   "outputs": [
    {
     "data": {
      "text/plain": [
       "tensor(1)"
      ]
     },
     "execution_count": 4,
     "metadata": {},
     "output_type": "execute_result"
    }
   ],
   "source": [
    "import torch\n",
    "b = torch.tensor(1)\n",
    "b"
   ]
  },
  {
   "cell_type": "code",
   "execution_count": 5,
   "id": "3ba8bd4c-18fe-4fb9-8f01-a6b1ef5c59e9",
   "metadata": {},
   "outputs": [
    {
     "data": {
      "text/plain": [
       "tensor(4)"
      ]
     },
     "execution_count": 5,
     "metadata": {},
     "output_type": "execute_result"
    }
   ],
   "source": [
    "add(b)\n",
    "b"
   ]
  },
  {
   "cell_type": "markdown",
   "id": "a59021e0-eb7b-46b5-bb5f-df9624db9c8c",
   "metadata": {},
   "source": [
    "在 Python 中，所有的数据类型都可以分为**可变对象**和**不可变对象**两大类。这两类对象的区别主要在于它们在内存中的行为，特别是当你对它们进行修改时的表现。\n",
    "\n",
    "### 不可变对象（Immutable Object）\n",
    "\n",
    "**不可变对象**是指一旦创建后，其内容就不能再改变的对象。如果你试图修改一个不可变对象的内容，实际上会创建一个新的对象。\n",
    "\n",
    "#### 常见的不可变对象：\n",
    "- **数值类型**：如 `int`（整数）、`float`（浮点数）、`complex`（复数）\n",
    "- **字符串**（`str`）\n",
    "- **元组**（`tuple`）\n",
    "- **冻结集合**（`frozenset`）\n",
    "\n",
    "#### 示例：\n",
    "\n",
    "```python\n",
    "x = 10\n",
    "y = x\n",
    "x += 1  # x = x + 1，实际上创建了一个新的整数对象 11，并将 x 指向这个新对象\n",
    "print(x)  # 输出 11\n",
    "print(y)  # 输出 10，y 仍然指向旧的对象 10\n",
    "```\n",
    "\n",
    "在上面的例子中，整数 `x` 和 `y` 在开始时指向同一个值 `10`，但当 `x` 被修改时，Python 实际上创建了一个新的整数对象 `11`，并将 `x` 指向这个新对象，`y` 仍然指向原来的 `10`。\n",
    "\n",
    "### 可变对象（Mutable Object）\n",
    "\n",
    "**可变对象**是指内容可以在原地直接修改的对象。你可以在不改变对象的引用（内存地址）的情况下，修改对象的内容。\n",
    "\n",
    "#### 常见的可变对象：\n",
    "- **列表**（`list`）\n",
    "- **字典**（`dict`）\n",
    "- **集合**（`set`）\n",
    "- **自定义类的实例**（如果类定义允许修改）\n",
    "\n",
    "#### 示例：\n",
    "\n",
    "```python\n",
    "x = [1, 2, 3]\n",
    "y = x\n",
    "x.append(4)  # 直接修改了 x 的内容\n",
    "print(x)  # 输出 [1, 2, 3, 4]\n",
    "print(y)  # 输出 [1, 2, 3, 4]，y 也被修改了，因为它指向同一个对象\n",
    "```\n",
    "\n",
    "在这个例子中，列表 `x` 和 `y` 最初指向同一个对象。当 `x` 被修改（添加元素）时，`y` 也反映了这个变化，因为 `x` 和 `y` 指向的是同一个内存地址的列表。\n",
    "\n",
    "### 总结\n",
    "\n",
    "- **不可变对象**：一旦创建后，内容不可改变。如果你试图修改它的值，Python 会创建一个新的对象，并将变量名指向这个新对象。这使得不可变对象在多线程环境中更加安全，因为它们的值不会被意外改变。\n",
    "  \n",
    "- **可变对象**：可以直接修改其内容，而不会创建新的对象。这种可变性使得可变对象在需要频繁修改数据的情况下更加高效，但也可能带来意外的副作用，例如在函数传参时修改了原始对象的内容。\n",
    "\n",
    "了解可变与不可变对象的区别对写出正确、高效的 Python 代码非常重要。"
   ]
  }
 ],
 "metadata": {
  "kernelspec": {
   "display_name": "Python 3 (ipykernel)",
   "language": "python",
   "name": "python3"
  },
  "language_info": {
   "codemirror_mode": {
    "name": "ipython",
    "version": 3
   },
   "file_extension": ".py",
   "mimetype": "text/x-python",
   "name": "python",
   "nbconvert_exporter": "python",
   "pygments_lexer": "ipython3",
   "version": "3.11.9"
  }
 },
 "nbformat": 4,
 "nbformat_minor": 5
}
