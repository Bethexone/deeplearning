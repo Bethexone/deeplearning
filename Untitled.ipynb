{
 "cells": [
  {
   "cell_type": "markdown",
   "id": "1c7c4b7d-2b31-40c4-81fd-4b5ee36d63be",
   "metadata": {},
   "source": [
    "# 1、zip 和 *arg 的用法"
   ]
  },
  {
   "cell_type": "code",
   "execution_count": 1,
   "id": "8e441b9d-92fb-4c6e-a968-175fcb7c6589",
   "metadata": {},
   "outputs": [],
   "source": [
    "def getitem(*arg):\n",
    "    print(arg)\n",
    "    print(list(zip(*arg)))\n",
    "    return arg"
   ]
  },
  {
   "cell_type": "code",
   "execution_count": 2,
   "id": "dab1e46b-4abb-42d7-9c89-3b746f8be4a8",
   "metadata": {},
   "outputs": [
    {
     "name": "stdout",
     "output_type": "stream",
     "text": [
      "([1, 2, 3], [4, 5, 6])\n",
      "[(1, 4), (2, 5), (3, 6)]\n"
     ]
    },
    {
     "data": {
      "text/plain": [
       "([1, 2, 3], [4, 5, 6])"
      ]
     },
     "execution_count": 2,
     "metadata": {},
     "output_type": "execute_result"
    }
   ],
   "source": [
    "getitem([1,2,3],[4,5,6])"
   ]
  },
  {
   "cell_type": "code",
   "execution_count": 3,
   "id": "aabf1f06-b75d-45d2-a016-3f4501b974fd",
   "metadata": {},
   "outputs": [
    {
     "name": "stdout",
     "output_type": "stream",
     "text": [
      "[(1, 'a', '!'), (2, 'b', '@'), (3, 'c', '#')]\n",
      "[(1, 'a', '!'), (2, 'b', '@'), (3, 'c', '#')]\n"
     ]
    }
   ],
   "source": [
    "# 多个可迭代对象\n",
    "numbers = [1, 2, 3]\n",
    "letters = ['a', 'b', 'c']\n",
    "symbols = ['!', '@', '#']\n",
    "\n",
    "# 使用zip将它们打包在一起\n",
    "zipped = zip(numbers, letters, symbols)\n",
    "\n",
    "# 将结果转换为列表查看\n",
    "print(list(zipped))\n",
    "print(list(zip(numbers, letters, symbols)))# 输出: [(1, 'a', '!'), (2, 'b', '@'), (3, 'c', '#')]"
   ]
  },
  {
   "cell_type": "markdown",
   "id": "ab1fb2cd-98fa-4d54-b08d-ebce6a636033",
   "metadata": {},
   "source": [
    "# 2、__getitem__  ：自定义索引方法"
   ]
  },
  {
   "cell_type": "code",
   "execution_count": 4,
   "id": "ae00a507-117a-493f-8236-44f4ef417f2b",
   "metadata": {},
   "outputs": [],
   "source": [
    "class Accumulator:\n",
    "    def __init__(self, n):\n",
    "        self.data = [0.0] * n\n",
    "\n",
    "    def add(self, *args):\n",
    "        self.data = [a + float(b) for a, b in zip(self.data, args)]\n",
    "\n",
    "    def reset(self):\n",
    "        self.data = [0.0] * len(self.data)\n",
    "\n",
    "    def __getitem__(self, idx):\n",
    "        return self.data[idx]"
   ]
  },
  {
   "cell_type": "code",
   "execution_count": 5,
   "id": "9968e848-787a-428a-92cd-e26267c94897",
   "metadata": {},
   "outputs": [],
   "source": [
    "a = Accumulator(5)"
   ]
  },
  {
   "cell_type": "code",
   "execution_count": 7,
   "id": "69dcd18c-6c11-49b1-91e7-2aea0187ea04",
   "metadata": {},
   "outputs": [
    {
     "data": {
      "text/plain": [
       "0.0"
      ]
     },
     "execution_count": 7,
     "metadata": {},
     "output_type": "execute_result"
    }
   ],
   "source": [
    "a[4]"
   ]
  },
  {
   "cell_type": "markdown",
   "id": "2a8ff271-3a5e-49e9-827a-5a7e8abdce2b",
   "metadata": {},
   "source": [
    "### 3、Python 的推导式"
   ]
  },
  {
   "cell_type": "code",
   "execution_count": 5,
   "id": "40b86364-366f-4ed1-93c7-8ca3b754275d",
   "metadata": {},
   "outputs": [
    {
     "data": {
      "text/plain": [
       "[[0, 1], [1, 1], [2, 1]]"
      ]
     },
     "execution_count": 5,
     "metadata": {},
     "output_type": "execute_result"
    }
   ],
   "source": [
    "n = 3\n",
    "a = [[i,1]for i in range(n)]\n",
    "a "
   ]
  },
  {
   "cell_type": "code",
   "execution_count": 6,
   "id": "2719407e-d00e-440e-a0de-94aaf75707fa",
   "metadata": {},
   "outputs": [
    {
     "data": {
      "text/plain": [
       "['cat\\ncat', 'dog\\ncat', 'bird\\ndog']"
      ]
     },
     "execution_count": 6,
     "metadata": {},
     "output_type": "execute_result"
    }
   ],
   "source": [
    "trues = ['cat', 'dog', 'bird']\n",
    "preds = ['cat', 'cat', 'dog']\n",
    "titles = [true + '\\n' + pred for true, pred in zip(trues, preds)]\n",
    "titles"
   ]
  },
  {
   "cell_type": "markdown",
   "id": "7eaab97b-d0fe-46cb-bca7-d8344ffd8a26",
   "metadata": {},
   "source": [
    "Python 的推导式（comprehensions）是一种简洁的语法，用于创建列表、字典、集合等数据结构。推导式的目的是通过简短的代码生成这些数据结构的元素，通常与循环和条件表达式结合使用。推导式提高了代码的可读性和效率。\n",
    "\n",
    "### 推导式的类型\n",
    "\n",
    "1. **列表推导式（List Comprehension）**\n",
    "2. **字典推导式（Dict Comprehension）**\n",
    "3. **集合推导式（Set Comprehension）**\n",
    "\n",
    "### 列表推导式\n",
    "\n",
    "列表推导式用于生成一个列表，其中的每个元素由给定的表达式计算得出。其基本语法为：\n",
    "\n",
    "```python\n",
    "[expression for item in iterable if condition]\n",
    "```\n",
    "\n",
    "- **`expression`**: 计算每个元素的表达式。\n",
    "- **`item`**: 迭代变量，表示 `iterable` 中的每一个元素。\n",
    "- **`iterable`**: 需要迭代的对象（如列表、范围、字符串等）。\n",
    "- **`if condition`**: 可选的条件，过滤掉不符合条件的元素。\n",
    "\n",
    "#### 示例\n",
    "\n",
    "生成一个包含前 10 个自然数的平方数的列表：\n",
    "\n",
    "```python\n",
    "squares = [x**2 for x in range(10)]\n",
    "print(squares)\n",
    "```\n",
    "\n",
    "**输出**:\n",
    "```\n",
    "[0, 1, 4, 9, 16, 25, 36, 49, 64, 81]\n",
    "```\n",
    "\n",
    "仅包含偶数平方数的列表：\n",
    "\n",
    "```python\n",
    "even_squares = [x**2 for x in range(10) if x % 2 == 0]\n",
    "print(even_squares)\n",
    "```\n",
    "\n",
    "**输出**:\n",
    "```\n",
    "[0, 4, 16, 36, 64]\n",
    "```\n",
    "\n",
    "### 字典推导式\n",
    "\n",
    "字典推导式用于生成一个字典，其基本语法为：\n",
    "\n",
    "```python\n",
    "{key_expression: value_expression for item in iterable if condition}\n",
    "```\n",
    "\n",
    "- **`key_expression`**: 字典中每个键的表达式。\n",
    "- **`value_expression`**: 字典中每个值的表达式。\n",
    "- **`item`**: 迭代变量。\n",
    "- **`iterable`**: 需要迭代的对象。\n",
    "- **`if condition`**: 可选的条件。\n",
    "\n",
    "#### 示例\n",
    "\n",
    "生成一个字典，其中键是 0 到 4 的整数，值是它们的平方：\n",
    "\n",
    "```python\n",
    "squares_dict = {x: x**2 for x in range(5)}\n",
    "print(squares_dict)\n",
    "```\n",
    "\n",
    "**输出**:\n",
    "```\n",
    "{0: 0, 1: 1, 2: 4, 3: 9, 4: 16}\n",
    "```\n",
    "\n",
    "### 集合推导式\n",
    "\n",
    "集合推导式用于生成一个集合，其基本语法为：\n",
    "\n",
    "```python\n",
    "{expression for item in iterable if condition}\n",
    "```\n",
    "\n",
    "- **`expression`**: 集合中每个元素的表达式。\n",
    "- **`item`**: 迭代变量。\n",
    "- **`iterable`**: 需要迭代的对象。\n",
    "- **`if condition`**: 可选的条件。\n",
    "\n",
    "#### 示例\n",
    "\n",
    "生成一个集合，其中包含 0 到 9 的平方数：\n",
    "\n",
    "```python\n",
    "squares_set = {x**2 for x in range(10)}\n",
    "print(squares_set)\n",
    "```\n",
    "\n",
    "**输出**:\n",
    "```\n",
    "{0, 1, 4, 9, 16, 25, 36, 49, 64, 81}\n",
    "```\n",
    "\n",
    "### 嵌套推导式\n",
    "\n",
    "推导式还可以嵌套使用，用于处理更复杂的数据结构。例如：\n",
    "\n",
    "生成一个 3x3 的矩阵（二维列表）：\n",
    "\n",
    "```python\n",
    "matrix = [[row * col for col in range(3)] for row in range(3)]\n",
    "print(matrix)\n",
    "```\n",
    "\n",
    "**输出**:\n",
    "```\n",
    "[[0, 0, 0], [0, 1, 2], [0, 2, 4]]\n",
    "```\n",
    "\n",
    "### 总结\n",
    "\n",
    "- **列表推导式**: 用于生成列表，支持条件过滤。\n",
    "- **字典推导式**: 用于生成字典，键和值都可以通过表达式计算。\n",
    "- **集合推导式**: 用于生成集合，集合中不允许重复元素。\n",
    "- **嵌套推导式**: 支持生成多维数据结构。\n",
    "\n",
    "推导式使得代码更加简洁和清晰，但在处理复杂逻辑时，可能需要考虑代码的可读性和可维护性。"
   ]
  },
  {
   "cell_type": "markdown",
   "id": "0efd3921-d3ee-4762-adca-ded3f9909b4c",
   "metadata": {},
   "source": [
    "`enumerate` 是 Python 的一个内置函数，用于在遍历可迭代对象（如列表、元组、字符串等）时，获取元素的索引和元素本身。它返回一个 `enumerate` 对象，这个对象是一个迭代器，可以生成一系列包含索引和对应元素的元组。\n",
    "\n",
    "### 语法\n",
    "\n",
    "```python\n",
    "enumerate(iterable, start=0)\n",
    "```\n",
    "\n",
    "- **`iterable`**: 需要迭代的对象（如列表、元组等）。\n",
    "- **`start`**: 索引的起始值，默认为 `0`。可以设置为其他值来从指定的索引开始计数。\n",
    "\n",
    "### 返回值\n",
    "\n",
    "`enumerate` 返回一个 `enumerate` 对象，这个对象是一个迭代器，生成 `(index, value)` 形式的元组，其中 `index` 是元素的索引，`value` 是元素本身。\n",
    "\n",
    "### 使用示例\n",
    "\n",
    "#### 基本用法\n",
    "\n",
    "遍历列表并获取索引和值：\n",
    "\n",
    "```python\n",
    "fruits = ['apple', 'banana', 'cherry']\n",
    "\n",
    "for index, fruit in enumerate(fruits):\n",
    "    print(f\"Index: {index}, Fruit: {fruit}\")\n",
    "```\n",
    "\n",
    "**输出**:\n",
    "```\n",
    "Index: 0, Fruit: apple\n",
    "Index: 1, Fruit: banana\n",
    "Index: 2, Fruit: cherry\n",
    "```\n",
    "\n",
    "#### 指定起始索引\n",
    "\n",
    "通过 `start` 参数设置起始索引：\n",
    "\n",
    "```python\n",
    "fruits = ['apple', 'banana', 'cherry']\n",
    "\n",
    "for index, fruit in enumerate(fruits, start=1):\n",
    "    print(f\"Index: {index}, Fruit: {fruit}\")\n",
    "```\n",
    "\n",
    "**输出**:\n",
    "```\n",
    "Index: 1, Fruit: apple\n",
    "Index: 2, Fruit: banana\n",
    "Index: 3, Fruit: cherry\n",
    "```\n",
    "\n",
    "#### 转换为列表\n",
    "\n",
    "将 `enumerate` 对象转换为列表查看内容：\n",
    "\n",
    "```python\n",
    "fruits = ['apple', 'banana', 'cherry']\n",
    "enumerated_fruits = list(enumerate(fruits))\n",
    "\n",
    "print(enumerated_fruits)\n",
    "```\n",
    "\n",
    "**输出**:\n",
    "```\n",
    "[(0, 'apple'), (1, 'banana'), (2, 'cherry')]\n",
    "```\n",
    "\n",
    "### 应用场景\n",
    "\n",
    "1. **索引和元素同时需要时**:\n",
    "   - 当需要在循环中同时获得元素和它们的索引时，使用 `enumerate` 可以简化代码。\n",
    "\n",
    "2. **数据处理和转换**:\n",
    "   - 在处理数据时，特别是当需要根据索引进行操作或转换时，`enumerate` 非常有用。\n",
    "\n",
    "3. **调试**:\n",
    "   - 在调试代码时，获取元素的索引可以帮助追踪问题的位置。\n",
    "\n",
    "### 总结\n",
    "\n",
    "`enumerate` 是一个便捷的工具，用于遍历可迭代对象时同时获取索引和值。通过使用 `enumerate`，可以避免手动维护索引计数器，使代码更简洁和易读。"
   ]
  },
  {
   "cell_type": "markdown",
   "id": "969438e5-98aa-4280-8e26-9cec5bf63c4c",
   "metadata": {},
   "source": []
  },
  {
   "cell_type": "code",
   "execution_count": null,
   "id": "b843681b-84a8-457a-953f-af91f40bd9d7",
   "metadata": {},
   "outputs": [],
   "source": []
  }
 ],
 "metadata": {
  "kernelspec": {
   "display_name": "Python 3 (ipykernel)",
   "language": "python",
   "name": "python3"
  },
  "language_info": {
   "codemirror_mode": {
    "name": "ipython",
    "version": 3
   },
   "file_extension": ".py",
   "mimetype": "text/x-python",
   "name": "python",
   "nbconvert_exporter": "python",
   "pygments_lexer": "ipython3",
   "version": "3.12.4"
  }
 },
 "nbformat": 4,
 "nbformat_minor": 5
}
