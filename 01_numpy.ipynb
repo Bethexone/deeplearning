{
 "cells": [
  {
   "cell_type": "markdown",
   "id": "73e39db0-b51d-4a9f-840b-1341f3521ae0",
   "metadata": {},
   "source": [
    "# 1、numpy 数组 索引"
   ]
  },
  {
   "cell_type": "markdown",
   "id": "c18acab7-5bb4-423b-87c5-2a3fd7955254",
   "metadata": {},
   "source": [
    "- **索引分为三个参数 : : : ,其中每个参数都可以忽略，具体参数为:**  \n",
    "    **1. 参数1:起始行（列）的索引**  \n",
    "    **2.参数2：终点行（列）的索引值**  \n",
    "    **3.参数3：步进数**    "
   ]
  },
  {
   "cell_type": "markdown",
   "id": "424b7c38-4712-479f-a2ea-8127fcc57f5a",
   "metadata": {},
   "source": [
    "**注意：以上索引均为左闭右开区间[参数1，参数2)**"
   ]
  },
  {
   "cell_type": "code",
   "execution_count": 1,
   "id": "93ec73b2-9950-446f-b271-d0b4fad76fbf",
   "metadata": {},
   "outputs": [],
   "source": [
    "import numpy as np"
   ]
  },
  {
   "cell_type": "code",
   "execution_count": 2,
   "id": "d70088bb-0bcb-4187-a6bb-30f579838209",
   "metadata": {},
   "outputs": [
    {
     "data": {
      "text/plain": [
       "array([[0., 0., 0., 0., 0., 0., 0., 0., 0., 0.],\n",
       "       [1., 1., 1., 1., 1., 1., 1., 1., 1., 1.],\n",
       "       [2., 2., 2., 2., 2., 2., 2., 2., 2., 2.],\n",
       "       [3., 3., 3., 3., 3., 3., 3., 3., 3., 3.],\n",
       "       [4., 4., 4., 4., 4., 4., 4., 4., 4., 4.],\n",
       "       [5., 5., 5., 5., 5., 5., 5., 5., 5., 5.],\n",
       "       [6., 6., 6., 6., 6., 6., 6., 6., 6., 6.],\n",
       "       [7., 7., 7., 7., 7., 7., 7., 7., 7., 7.],\n",
       "       [8., 8., 8., 8., 8., 8., 8., 8., 8., 8.]])"
      ]
     },
     "execution_count": 2,
     "metadata": {},
     "output_type": "execute_result"
    }
   ],
   "source": [
    "# 定义矩阵的行数和列数\n",
    "rows = 9\n",
    "cols = 10\n",
    "\n",
    "# 创建一个矩阵，其每个元素的值等于其所在的行索引\n",
    "matrix = np.arange(rows)[:, np.newaxis] * np.ones((1, cols))\n",
    "matrix"
   ]
  },
  {
   "cell_type": "markdown",
   "id": "8cc4e9ec-391e-43c6-a799-d1d094ad52f9",
   "metadata": {},
   "source": [
    "**问题1: matrixs是如何做到其每个元素的值等于其所在的行索引，其中 np.newaxis 的作用是什么？**"
   ]
  },
  {
   "cell_type": "code",
   "execution_count": 3,
   "id": "c6b8acbe-f749-42db-90a6-48b79f66c021",
   "metadata": {},
   "outputs": [
    {
     "data": {
      "text/plain": [
       "array([[2., 2., 2., 2., 2., 2., 2., 2., 2., 2.],\n",
       "       [4., 4., 4., 4., 4., 4., 4., 4., 4., 4.],\n",
       "       [6., 6., 6., 6., 6., 6., 6., 6., 6., 6.],\n",
       "       [8., 8., 8., 8., 8., 8., 8., 8., 8., 8.]])"
      ]
     },
     "execution_count": 3,
     "metadata": {},
     "output_type": "execute_result"
    }
   ],
   "source": [
    "# 行索引2 （即第三行）开始步进，步距为2打印行号2，4，6，8\n",
    "a = matrix[2::2,:]\n",
    "a"
   ]
  },
  {
   "cell_type": "code",
   "execution_count": 4,
   "id": "3ca88892-a461-4673-97bd-1f24e8587f69",
   "metadata": {},
   "outputs": [
    {
     "data": {
      "text/plain": [
       "array([[1., 1., 1., 1., 1., 1., 1., 1., 1., 1.],\n",
       "       [3., 3., 3., 3., 3., 3., 3., 3., 3., 3.]])"
      ]
     },
     "execution_count": 4,
     "metadata": {},
     "output_type": "execute_result"
    }
   ],
   "source": [
    "# 从行索引1 步进到行索引5，步距为2 打印行索引：1，3，左闭右开所以不到 5\n",
    "b = matrix[1:5:2,:]\n",
    "b"
   ]
  },
  {
   "cell_type": "code",
   "execution_count": 5,
   "id": "1a162e5b-70fd-44e3-bad8-aa4cfcce9388",
   "metadata": {},
   "outputs": [
    {
     "data": {
      "text/plain": [
       "array([], shape=(0, 10), dtype=float64)"
      ]
     },
     "execution_count": 5,
     "metadata": {},
     "output_type": "execute_result"
    }
   ],
   "source": [
    "# 行索引1 步进到行索引 5，步进为 -1 ，由于步进为-1无法到达，所以为空\n",
    "c = matrix[1:5:-1,:]\n",
    "c"
   ]
  },
  {
   "cell_type": "code",
   "execution_count": 6,
   "id": "f386114c-9501-430a-915d-3447606e8e3c",
   "metadata": {},
   "outputs": [
    {
     "data": {
      "text/plain": [
       "array([[5., 5., 5., 5., 5., 5., 5., 5., 5., 5.],\n",
       "       [4., 4., 4., 4., 4., 4., 4., 4., 4., 4.],\n",
       "       [3., 3., 3., 3., 3., 3., 3., 3., 3., 3.],\n",
       "       [2., 2., 2., 2., 2., 2., 2., 2., 2., 2.]])"
      ]
     },
     "execution_count": 6,
     "metadata": {},
     "output_type": "execute_result"
    }
   ],
   "source": [
    "# 行索引5 步进到行索引 1，步进为 -1 ，打印行索引为 5，4，3，2\n",
    "d = matrix[5:1:-1,:]\n",
    "d"
   ]
  },
  {
   "cell_type": "markdown",
   "id": "754befd7-71df-41ba-b83c-56e76fda0ca3",
   "metadata": {},
   "source": [
    "### 未指定时，起始索引是从哪个值开始的？？"
   ]
  },
  {
   "cell_type": "code",
   "execution_count": 7,
   "id": "0f44d8df-b5a4-40b5-8082-9bd83dc6d670",
   "metadata": {},
   "outputs": [
    {
     "data": {
      "text/plain": [
       "array([[8., 8., 8., 8., 8., 8., 8., 8., 8., 8.],\n",
       "       [7., 7., 7., 7., 7., 7., 7., 7., 7., 7.],\n",
       "       [6., 6., 6., 6., 6., 6., 6., 6., 6., 6.],\n",
       "       [5., 5., 5., 5., 5., 5., 5., 5., 5., 5.],\n",
       "       [4., 4., 4., 4., 4., 4., 4., 4., 4., 4.],\n",
       "       [3., 3., 3., 3., 3., 3., 3., 3., 3., 3.],\n",
       "       [2., 2., 2., 2., 2., 2., 2., 2., 2., 2.],\n",
       "       [1., 1., 1., 1., 1., 1., 1., 1., 1., 1.],\n",
       "       [0., 0., 0., 0., 0., 0., 0., 0., 0., 0.]])"
      ]
     },
     "execution_count": 7,
     "metadata": {},
     "output_type": "execute_result"
    }
   ],
   "source": [
    "e = matrix[::-1,:]\n",
    "e"
   ]
  },
  {
   "cell_type": "code",
   "execution_count": 8,
   "id": "e9a4e6a5-7d65-4568-9416-1d5990301c34",
   "metadata": {},
   "outputs": [
    {
     "data": {
      "text/plain": [
       "array([[0., 0., 0., 0., 0., 0., 0., 0., 0., 0.],\n",
       "       [1., 1., 1., 1., 1., 1., 1., 1., 1., 1.],\n",
       "       [2., 2., 2., 2., 2., 2., 2., 2., 2., 2.],\n",
       "       [3., 3., 3., 3., 3., 3., 3., 3., 3., 3.],\n",
       "       [4., 4., 4., 4., 4., 4., 4., 4., 4., 4.]])"
      ]
     },
     "execution_count": 8,
     "metadata": {},
     "output_type": "execute_result"
    }
   ],
   "source": [
    "# 测试未指定起始索引时，是从哪个值开始的\n",
    "e1 = matrix[:5:1,:]\n",
    "e1"
   ]
  },
  {
   "cell_type": "code",
   "execution_count": 9,
   "id": "b2865007-b581-4cbc-a2a6-fc2da4a66289",
   "metadata": {},
   "outputs": [
    {
     "data": {
      "text/plain": [
       "array([[8., 8., 8., 8., 8., 8., 8., 8., 8., 8.],\n",
       "       [7., 7., 7., 7., 7., 7., 7., 7., 7., 7.],\n",
       "       [6., 6., 6., 6., 6., 6., 6., 6., 6., 6.]])"
      ]
     },
     "execution_count": 9,
     "metadata": {},
     "output_type": "execute_result"
    }
   ],
   "source": [
    "# 测试未指定起始索引时，是从哪个值开始的\n",
    "e2 = matrix[:5:-1,:]\n",
    "e2"
   ]
  },
  {
   "cell_type": "markdown",
   "id": "ec31d40a-7e70-476c-b262-26883603c142",
   "metadata": {},
   "source": [
    "### **结论：为指定起始索引时，根据步进正负，自动设定起始索引。步进为正数时，默认起始索引为0，步进为负数时，默认起始索引为最大索引**"
   ]
  },
  {
   "cell_type": "code",
   "execution_count": 10,
   "id": "fb4c0983-8be0-40c5-a6c7-25dd95d050f8",
   "metadata": {},
   "outputs": [
    {
     "data": {
      "text/plain": [
       "array([[2., 2., 2., 2., 2., 2., 2., 2., 2., 2.],\n",
       "       [1., 1., 1., 1., 1., 1., 1., 1., 1., 1.],\n",
       "       [0., 0., 0., 0., 0., 0., 0., 0., 0., 0.]])"
      ]
     },
     "execution_count": 10,
     "metadata": {},
     "output_type": "execute_result"
    }
   ],
   "source": [
    "e = matrix[2::-1,:]\n",
    "e"
   ]
  },
  {
   "cell_type": "code",
   "execution_count": 13,
   "id": "48074b8f-a2ff-404a-a8f5-e198f8ac7ef9",
   "metadata": {},
   "outputs": [
    {
     "data": {
      "text/plain": [
       "array([0, 1, 2, 3, 4, 5, 6, 7, 8])"
      ]
     },
     "execution_count": 13,
     "metadata": {},
     "output_type": "execute_result"
    }
   ],
   "source": [
    "index = np.arange(9)\n",
    "index"
   ]
  },
  {
   "cell_type": "code",
   "execution_count": 15,
   "id": "72efacc7-c384-4a4a-8da8-e398428148ee",
   "metadata": {},
   "outputs": [
    {
     "data": {
      "text/plain": [
       "array([0., 2., 4., 6., 8.])"
      ]
     },
     "execution_count": 15,
     "metadata": {},
     "output_type": "execute_result"
    }
   ],
   "source": [
    "matrix[index[::2],1]"
   ]
  },
  {
   "cell_type": "code",
   "execution_count": null,
   "id": "f64e670d-c35b-4c76-b699-4667ed99b1a3",
   "metadata": {},
   "outputs": [],
   "source": []
  }
 ],
 "metadata": {
  "kernelspec": {
   "display_name": "Python 3 (ipykernel)",
   "language": "python",
   "name": "python3"
  },
  "language_info": {
   "codemirror_mode": {
    "name": "ipython",
    "version": 3
   },
   "file_extension": ".py",
   "mimetype": "text/x-python",
   "name": "python",
   "nbconvert_exporter": "python",
   "pygments_lexer": "ipython3",
   "version": "3.12.4"
  }
 },
 "nbformat": 4,
 "nbformat_minor": 5
}
