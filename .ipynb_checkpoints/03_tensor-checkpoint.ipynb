{
 "cells": [
  {
   "cell_type": "code",
   "execution_count": 1,
   "id": "36d63f83-026b-4bef-8b6f-c451bdb3e3b6",
   "metadata": {},
   "outputs": [],
   "source": [
    "import torch"
   ]
  },
  {
   "cell_type": "code",
   "execution_count": 2,
   "id": "7b1143d8-2ade-4358-ae22-88e291c62a1a",
   "metadata": {},
   "outputs": [
    {
     "data": {
      "text/plain": [
       "(tensor([[0, 0, 0, 0, 0, 0, 0, 0, 0, 0],\n",
       "         [1, 1, 1, 1, 1, 1, 1, 1, 1, 1],\n",
       "         [2, 2, 2, 2, 2, 2, 2, 2, 2, 2],\n",
       "         [3, 3, 3, 3, 3, 3, 3, 3, 3, 3],\n",
       "         [4, 4, 4, 4, 4, 4, 4, 4, 4, 4],\n",
       "         [5, 5, 5, 5, 5, 5, 5, 5, 5, 5],\n",
       "         [6, 6, 6, 6, 6, 6, 6, 6, 6, 6],\n",
       "         [7, 7, 7, 7, 7, 7, 7, 7, 7, 7],\n",
       "         [8, 8, 8, 8, 8, 8, 8, 8, 8, 8]]),\n",
       " torch.Size([9, 10]))"
      ]
     },
     "execution_count": 2,
     "metadata": {},
     "output_type": "execute_result"
    }
   ],
   "source": [
    "rows = 9\n",
    "cols = 10\n",
    "\n",
    "tensor = torch.arange(rows).repeat(cols,1).T\n",
    "tensor,tensor.shape"
   ]
  },
  {
   "cell_type": "code",
   "execution_count": 3,
   "id": "90f5983c-259f-4056-829c-eacddcbcbb08",
   "metadata": {},
   "outputs": [
    {
     "ename": "ValueError",
     "evalue": "step must be greater than zero",
     "output_type": "error",
     "traceback": [
      "\u001b[1;31m---------------------------------------------------------------------------\u001b[0m",
      "\u001b[1;31mValueError\u001b[0m                                Traceback (most recent call last)",
      "Cell \u001b[1;32mIn[3], line 2\u001b[0m\n\u001b[0;32m      1\u001b[0m \u001b[38;5;66;03m# tensor 不支持 负数步距\u001b[39;00m\n\u001b[1;32m----> 2\u001b[0m tensor  \u001b[38;5;241m=\u001b[39m \u001b[43mtensor\u001b[49m\u001b[43m[\u001b[49m\u001b[43m:\u001b[49m\u001b[43m:\u001b[49m\u001b[38;5;241;43m-\u001b[39;49m\u001b[38;5;241;43m1\u001b[39;49m\u001b[43m,\u001b[49m\u001b[43m:\u001b[49m\u001b[43m]\u001b[49m\n",
      "\u001b[1;31mValueError\u001b[0m: step must be greater than zero"
     ]
    }
   ],
   "source": [
    "# tensor 不支持 负数步距\n",
    "tensor  = tensor[::-1,:]"
   ]
  },
  {
   "cell_type": "code",
   "execution_count": 4,
   "id": "9cd4fe8b-9a4f-46ba-a707-f88491e96e94",
   "metadata": {},
   "outputs": [
    {
     "data": {
      "text/plain": [
       "tensor([[8, 8, 8, 8, 8, 8, 8, 8, 8, 8],\n",
       "        [7, 7, 7, 7, 7, 7, 7, 7, 7, 7],\n",
       "        [6, 6, 6, 6, 6, 6, 6, 6, 6, 6],\n",
       "        [5, 5, 5, 5, 5, 5, 5, 5, 5, 5],\n",
       "        [4, 4, 4, 4, 4, 4, 4, 4, 4, 4],\n",
       "        [3, 3, 3, 3, 3, 3, 3, 3, 3, 3],\n",
       "        [2, 2, 2, 2, 2, 2, 2, 2, 2, 2],\n",
       "        [1, 1, 1, 1, 1, 1, 1, 1, 1, 1],\n",
       "        [0, 0, 0, 0, 0, 0, 0, 0, 0, 0]])"
      ]
     },
     "execution_count": 4,
     "metadata": {},
     "output_type": "execute_result"
    }
   ],
   "source": [
    "tensorB = torch.flip(tensor,dims=[0])\n",
    "tensorB"
   ]
  },
  {
   "cell_type": "code",
   "execution_count": 5,
   "id": "4330d2b3-45b4-4724-b143-c78a9bc5237f",
   "metadata": {},
   "outputs": [
    {
     "data": {
      "text/plain": [
       "(tensor([[8, 8, 8, 8, 8, 8, 8, 8, 8, 8],\n",
       "         [8, 8, 8, 8, 8, 8, 8, 8, 8, 8],\n",
       "         [8, 8, 8, 8, 8, 8, 8, 8, 8, 8],\n",
       "         [8, 8, 8, 8, 8, 8, 8, 8, 8, 8],\n",
       "         [8, 8, 8, 8, 8, 8, 8, 8, 8, 8],\n",
       "         [8, 8, 8, 8, 8, 8, 8, 8, 8, 8],\n",
       "         [8, 8, 8, 8, 8, 8, 8, 8, 8, 8],\n",
       "         [8, 8, 8, 8, 8, 8, 8, 8, 8, 8],\n",
       "         [8, 8, 8, 8, 8, 8, 8, 8, 8, 8]]),\n",
       " tensor([[  0,   0,   0,   0,   0,   0,   0,   0,   0,   0],\n",
       "         [  1,   1,   1,   1,   1,   1,   1,   1,   1,   1],\n",
       "         [ 64,  64,  64,  64,  64,  64,  64,  64,  64,  64],\n",
       "         [243, 243, 243, 243, 243, 243, 243, 243, 243, 243],\n",
       "         [256, 256, 256, 256, 256, 256, 256, 256, 256, 256],\n",
       "         [125, 125, 125, 125, 125, 125, 125, 125, 125, 125],\n",
       "         [ 36,  36,  36,  36,  36,  36,  36,  36,  36,  36],\n",
       "         [  7,   7,   7,   7,   7,   7,   7,   7,   7,   7],\n",
       "         [  1,   1,   1,   1,   1,   1,   1,   1,   1,   1]]))"
      ]
     },
     "execution_count": 5,
     "metadata": {},
     "output_type": "execute_result"
    }
   ],
   "source": [
    "# ** 是幂运算\n",
    "tensor + tensorB,tensor ** tensorB"
   ]
  },
  {
   "cell_type": "code",
   "execution_count": 6,
   "id": "c516fcbc-0d14-4c89-beb1-8ab275b81c02",
   "metadata": {},
   "outputs": [
    {
     "data": {
      "text/plain": [
       "tensor([[ 0,  1,  2,  3],\n",
       "        [ 4,  5,  6,  7],\n",
       "        [ 8,  9, 10, 11]])"
      ]
     },
     "execution_count": 6,
     "metadata": {},
     "output_type": "execute_result"
    }
   ],
   "source": [
    "tensorC = torch.arange(12).reshape((3,4))\n",
    "tensorC"
   ]
  },
  {
   "cell_type": "code",
   "execution_count": 7,
   "id": "42453e58-fd50-4ff3-aaa1-7344fd1521d9",
   "metadata": {},
   "outputs": [
    {
     "data": {
      "text/plain": [
       "(torch.Size([9, 10]), torch.Size([9, 10]), torch.Size([3, 4]))"
      ]
     },
     "execution_count": 7,
     "metadata": {},
     "output_type": "execute_result"
    }
   ],
   "source": [
    "tensor.shape,tensorB.shape,tensorC.shape"
   ]
  },
  {
   "cell_type": "code",
   "execution_count": 8,
   "id": "a2bb2d50-e720-41ec-b26c-c16f066614bc",
   "metadata": {},
   "outputs": [
    {
     "ename": "RuntimeError",
     "evalue": "The size of tensor a (10) must match the size of tensor b (4) at non-singleton dimension 1",
     "output_type": "error",
     "traceback": [
      "\u001b[1;31m---------------------------------------------------------------------------\u001b[0m",
      "\u001b[1;31mRuntimeError\u001b[0m                              Traceback (most recent call last)",
      "Cell \u001b[1;32mIn[8], line 1\u001b[0m\n\u001b[1;32m----> 1\u001b[0m \u001b[43mtensor\u001b[49m\u001b[43m \u001b[49m\u001b[38;5;241;43m+\u001b[39;49m\u001b[43m \u001b[49m\u001b[43mtensorC\u001b[49m\n",
      "\u001b[1;31mRuntimeError\u001b[0m: The size of tensor a (10) must match the size of tensor b (4) at non-singleton dimension 1"
     ]
    }
   ],
   "source": [
    "tensor + tensorC"
   ]
  },
  {
   "cell_type": "code",
   "execution_count": 9,
   "id": "5023c6b5-ec34-4b4a-8de6-6f9b3496eb38",
   "metadata": {},
   "outputs": [
    {
     "data": {
      "text/plain": [
       "(tensor([[ 0],\n",
       "         [ 1],\n",
       "         [ 2],\n",
       "         [ 3],\n",
       "         [ 4],\n",
       "         [ 5],\n",
       "         [ 6],\n",
       "         [ 7],\n",
       "         [ 8],\n",
       "         [ 9],\n",
       "         [10],\n",
       "         [11]]),\n",
       " torch.Size([12, 1]))"
      ]
     },
     "execution_count": 9,
     "metadata": {},
     "output_type": "execute_result"
    }
   ],
   "source": [
    "tensorC = tensorC.reshape((12,1))\n",
    "tensorC,tensorC.shape"
   ]
  },
  {
   "cell_type": "code",
   "execution_count": 10,
   "id": "c3c5ea26-eda1-416f-8aeb-7fa8ad1d7aa0",
   "metadata": {},
   "outputs": [
    {
     "ename": "RuntimeError",
     "evalue": "The size of tensor a (9) must match the size of tensor b (12) at non-singleton dimension 0",
     "output_type": "error",
     "traceback": [
      "\u001b[1;31m---------------------------------------------------------------------------\u001b[0m",
      "\u001b[1;31mRuntimeError\u001b[0m                              Traceback (most recent call last)",
      "Cell \u001b[1;32mIn[10], line 1\u001b[0m\n\u001b[1;32m----> 1\u001b[0m \u001b[43mtensor\u001b[49m\u001b[43m \u001b[49m\u001b[38;5;241;43m+\u001b[39;49m\u001b[43m \u001b[49m\u001b[43mtensorC\u001b[49m\n",
      "\u001b[1;31mRuntimeError\u001b[0m: The size of tensor a (9) must match the size of tensor b (12) at non-singleton dimension 0"
     ]
    }
   ],
   "source": [
    "tensor + tensorC"
   ]
  },
  {
   "cell_type": "code",
   "execution_count": 11,
   "id": "60513b5b-67a5-4631-81dd-5f915d53dca9",
   "metadata": {},
   "outputs": [
    {
     "data": {
      "text/plain": [
       "(tensor([[0],\n",
       "         [1],\n",
       "         [2]]),\n",
       " tensor([[0, 1]]),\n",
       " tensor([[0, 1],\n",
       "         [1, 2],\n",
       "         [2, 3]]))"
      ]
     },
     "execution_count": 11,
     "metadata": {},
     "output_type": "execute_result"
    }
   ],
   "source": [
    "a = torch.arange(3).reshape((3,1))\n",
    "b = torch.arange(2).reshape((1,2))\n",
    "a,b,a+b"
   ]
  },
  {
   "cell_type": "code",
   "execution_count": 12,
   "id": "a9fe5c50-9aa0-481c-aca4-aaea3b8c95cd",
   "metadata": {},
   "outputs": [
    {
     "data": {
      "text/plain": [
       "(tensor([[0, 0, 0, 0, 0, 0, 0, 0, 0, 0, 1, 1, 1, 1, 1, 1, 1, 1, 1, 1, 2, 2, 2, 2,\n",
       "          2, 2, 2, 2, 2, 2, 3, 3, 3, 3, 3, 3, 3, 3, 3, 3, 4, 4, 4, 4, 4, 4, 4, 4,\n",
       "          4, 4, 5, 5, 5, 5, 5, 5, 5, 5, 5, 5, 6, 6, 6, 6, 6, 6, 6, 6, 6, 6, 7, 7,\n",
       "          7, 7, 7, 7, 7, 7, 7, 7, 8, 8, 8, 8, 8, 8, 8, 8, 8, 8]]),\n",
       " torch.Size([1, 90]))"
      ]
     },
     "execution_count": 12,
     "metadata": {},
     "output_type": "execute_result"
    }
   ],
   "source": [
    "tensorD = tensor.reshape((1,90))\n",
    "tensorD,tensorD.shape"
   ]
  },
  {
   "cell_type": "code",
   "execution_count": 13,
   "id": "1fbcb35b-4d25-450f-ad5a-9d36c60a09f5",
   "metadata": {},
   "outputs": [
    {
     "data": {
      "text/plain": [
       "tensor([[ 0,  0,  0,  ...,  8,  8,  8],\n",
       "        [ 1,  1,  1,  ...,  9,  9,  9],\n",
       "        [ 2,  2,  2,  ..., 10, 10, 10],\n",
       "        ...,\n",
       "        [ 9,  9,  9,  ..., 17, 17, 17],\n",
       "        [10, 10, 10,  ..., 18, 18, 18],\n",
       "        [11, 11, 11,  ..., 19, 19, 19]])"
      ]
     },
     "execution_count": 13,
     "metadata": {},
     "output_type": "execute_result"
    }
   ],
   "source": [
    "tensorC + tensorD "
   ]
  },
  {
   "cell_type": "markdown",
   "id": "724b9f84-6f06-4332-9b7b-cbc9b705d0ff",
   "metadata": {},
   "source": [
    "**广播机制必须是维度相同，且对应维度形状相同或者其中一个维度形状为1.**"
   ]
  },
  {
   "cell_type": "markdown",
   "id": "b6b4d8f8-52af-4f5d-b2ba-01d4bf39f960",
   "metadata": {},
   "source": [
    "### 内存问题"
   ]
  },
  {
   "cell_type": "code",
   "execution_count": 15,
   "id": "17753482-7480-470f-ba8d-115688f391c9",
   "metadata": {},
   "outputs": [
    {
     "data": {
      "text/plain": [
       "(tensor([[0, 0, 0, 0, 0, 0, 0, 0, 0, 0],\n",
       "         [1, 1, 1, 1, 1, 1, 1, 1, 1, 1],\n",
       "         [2, 2, 2, 2, 2, 2, 2, 2, 2, 2],\n",
       "         [3, 3, 3, 3, 3, 3, 3, 3, 3, 3],\n",
       "         [4, 4, 4, 4, 4, 4, 4, 4, 4, 4],\n",
       "         [5, 5, 5, 5, 5, 5, 5, 5, 5, 5],\n",
       "         [6, 6, 6, 6, 6, 6, 6, 6, 6, 6],\n",
       "         [7, 7, 7, 7, 7, 7, 7, 7, 7, 7],\n",
       "         [8, 8, 8, 8, 8, 8, 8, 8, 8, 8]]),\n",
       " torch.Size([9, 10]))"
      ]
     },
     "execution_count": 15,
     "metadata": {},
     "output_type": "execute_result"
    }
   ],
   "source": [
    "tensor,tensor.shape"
   ]
  },
  {
   "cell_type": "markdown",
   "id": "52b2bd1a-1af1-4948-864c-5cd66f92d07f",
   "metadata": {},
   "source": [
    "**执行运算时，即使赋值为同一个变量，依旧相当于 开辟新内存后销毁之前状态，内存交换增加**  \n",
    "**id 函数相当于得到地址**"
   ]
  },
  {
   "cell_type": "code",
   "execution_count": 16,
   "id": "f98cf776-dc40-4b99-8fff-a4e6ae34d67d",
   "metadata": {},
   "outputs": [
    {
     "data": {
      "text/plain": [
       "False"
      ]
     },
     "execution_count": 16,
     "metadata": {},
     "output_type": "execute_result"
    }
   ],
   "source": [
    "addr = id(tensor)\n",
    "tensor = tensor + tensorB\n",
    "id(tensor) == addr"
   ]
  },
  {
   "cell_type": "markdown",
   "id": "2292b73a-5937-484f-b2c7-b6feaae402c9",
   "metadata": {},
   "source": [
    "**对元素进行操作，则不会更改内存空间**"
   ]
  },
  {
   "cell_type": "code",
   "execution_count": 18,
   "id": "84171492-e9a1-4180-bfc4-291d027d3560",
   "metadata": {},
   "outputs": [
    {
     "data": {
      "text/plain": [
       "True"
      ]
     },
     "execution_count": 18,
     "metadata": {},
     "output_type": "execute_result"
    }
   ],
   "source": [
    "addr = id(tensor)\n",
    "tensor[:] = tensor + tensorB\n",
    "id(tensor) == addr"
   ]
  }
 ],
 "metadata": {
  "kernelspec": {
   "display_name": "Python [conda env:test] *",
   "language": "python",
   "name": "conda-env-test-py"
  },
  "language_info": {
   "codemirror_mode": {
    "name": "ipython",
    "version": 3
   },
   "file_extension": ".py",
   "mimetype": "text/x-python",
   "name": "python",
   "nbconvert_exporter": "python",
   "pygments_lexer": "ipython3",
   "version": "3.11.9"
  }
 },
 "nbformat": 4,
 "nbformat_minor": 5
}
