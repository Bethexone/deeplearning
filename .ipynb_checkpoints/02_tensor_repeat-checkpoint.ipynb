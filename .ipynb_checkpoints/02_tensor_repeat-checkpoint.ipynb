{
 "cells": [
  {
   "cell_type": "code",
   "execution_count": 1,
   "id": "fc8d1078-8a4f-42f3-b942-1aedda10b8dd",
   "metadata": {},
   "outputs": [],
   "source": [
    "import torch"
   ]
  },
  {
   "cell_type": "code",
   "execution_count": 2,
   "id": "871ae87d-ba40-4065-9cba-3100c9f25173",
   "metadata": {},
   "outputs": [
    {
     "data": {
      "text/plain": [
       "(tensor([0, 1, 2, 3, 4, 5, 6, 7, 8]),\n",
       " tensor([[0, 1, 2, 3, 4, 5, 6, 7, 8],\n",
       "         [0, 1, 2, 3, 4, 5, 6, 7, 8],\n",
       "         [0, 1, 2, 3, 4, 5, 6, 7, 8],\n",
       "         [0, 1, 2, 3, 4, 5, 6, 7, 8],\n",
       "         [0, 1, 2, 3, 4, 5, 6, 7, 8],\n",
       "         [0, 1, 2, 3, 4, 5, 6, 7, 8],\n",
       "         [0, 1, 2, 3, 4, 5, 6, 7, 8],\n",
       "         [0, 1, 2, 3, 4, 5, 6, 7, 8],\n",
       "         [0, 1, 2, 3, 4, 5, 6, 7, 8],\n",
       "         [0, 1, 2, 3, 4, 5, 6, 7, 8]]),\n",
       " tensor([[0, 0, 0, 0, 0, 0, 0, 0, 0, 0],\n",
       "         [1, 1, 1, 1, 1, 1, 1, 1, 1, 1],\n",
       "         [2, 2, 2, 2, 2, 2, 2, 2, 2, 2],\n",
       "         [3, 3, 3, 3, 3, 3, 3, 3, 3, 3],\n",
       "         [4, 4, 4, 4, 4, 4, 4, 4, 4, 4],\n",
       "         [5, 5, 5, 5, 5, 5, 5, 5, 5, 5],\n",
       "         [6, 6, 6, 6, 6, 6, 6, 6, 6, 6],\n",
       "         [7, 7, 7, 7, 7, 7, 7, 7, 7, 7],\n",
       "         [8, 8, 8, 8, 8, 8, 8, 8, 8, 8]]),\n",
       " torch.Size([10, 9]),\n",
       " torch.Size([9, 10]))"
      ]
     },
     "execution_count": 2,
     "metadata": {},
     "output_type": "execute_result"
    }
   ],
   "source": [
    "rows = 9\n",
    "cols = 10\n",
    "\n",
    "# 使用 arange 创建行索引，然后用 repeat 扩展到矩阵大小\n",
    "tensor1 = torch.arange(rows)\n",
    "# repeat 参数：(重叠次数,重叠方向）\n",
    "tensor2 = tensor1.repeat(cols, 1)\n",
    "tensor = tensor2.T\n",
    "tensor1,tensor2,tensor,tensor2.shape,tensor.shape"
   ]
  },
  {
   "cell_type": "code",
   "execution_count": 3,
   "id": "36883a9d-cb29-4de0-9d0f-ec85751d20d0",
   "metadata": {},
   "outputs": [
    {
     "data": {
      "text/plain": [
       "(tensor([[0, 1, 2, 3, 4, 5, 6, 7, 8],\n",
       "         [0, 1, 2, 3, 4, 5, 6, 7, 8],\n",
       "         [0, 1, 2, 3, 4, 5, 6, 7, 8],\n",
       "         [0, 1, 2, 3, 4, 5, 6, 7, 8],\n",
       "         [0, 1, 2, 3, 4, 5, 6, 7, 8],\n",
       "         [0, 1, 2, 3, 4, 5, 6, 7, 8],\n",
       "         [0, 1, 2, 3, 4, 5, 6, 7, 8],\n",
       "         [0, 1, 2, 3, 4, 5, 6, 7, 8],\n",
       "         [0, 1, 2, 3, 4, 5, 6, 7, 8],\n",
       "         [0, 1, 2, 3, 4, 5, 6, 7, 8]]),\n",
       " torch.Size([10, 9]))"
      ]
     },
     "execution_count": 3,
     "metadata": {},
     "output_type": "execute_result"
    }
   ],
   "source": [
    "tensor2=tensor1.repeat(cols,1)\n",
    "tensor2,tensor2.shape"
   ]
  },
  {
   "cell_type": "code",
   "execution_count": 4,
   "id": "f326ab80-5f83-45f4-8450-139c846a4bd4",
   "metadata": {},
   "outputs": [
    {
     "data": {
      "text/plain": [
       "(tensor([[[0, 1, 2, 3, 4, 5, 6, 7, 8],\n",
       "          [0, 1, 2, 3, 4, 5, 6, 7, 8],\n",
       "          [0, 1, 2, 3, 4, 5, 6, 7, 8],\n",
       "          [0, 1, 2, 3, 4, 5, 6, 7, 8],\n",
       "          [0, 1, 2, 3, 4, 5, 6, 7, 8],\n",
       "          [0, 1, 2, 3, 4, 5, 6, 7, 8],\n",
       "          [0, 1, 2, 3, 4, 5, 6, 7, 8],\n",
       "          [0, 1, 2, 3, 4, 5, 6, 7, 8],\n",
       "          [0, 1, 2, 3, 4, 5, 6, 7, 8],\n",
       "          [0, 1, 2, 3, 4, 5, 6, 7, 8]]]),\n",
       " torch.Size([1, 10, 9]))"
      ]
     },
     "execution_count": 4,
     "metadata": {},
     "output_type": "execute_result"
    }
   ],
   "source": [
    "tensor2=tensor1.repeat(1,cols,1)\n",
    "tensor2,tensor2.shape"
   ]
  },
  {
   "cell_type": "code",
   "execution_count": 5,
   "id": "5fc60f8c-ca58-47f9-a1e0-12e7273d074a",
   "metadata": {},
   "outputs": [
    {
     "data": {
      "text/plain": [
       "(tensor([[[0, 1, 2, 3, 4, 5, 6, 7, 8],\n",
       "          [0, 1, 2, 3, 4, 5, 6, 7, 8],\n",
       "          [0, 1, 2, 3, 4, 5, 6, 7, 8],\n",
       "          [0, 1, 2, 3, 4, 5, 6, 7, 8],\n",
       "          [0, 1, 2, 3, 4, 5, 6, 7, 8],\n",
       "          [0, 1, 2, 3, 4, 5, 6, 7, 8],\n",
       "          [0, 1, 2, 3, 4, 5, 6, 7, 8],\n",
       "          [0, 1, 2, 3, 4, 5, 6, 7, 8],\n",
       "          [0, 1, 2, 3, 4, 5, 6, 7, 8],\n",
       "          [0, 1, 2, 3, 4, 5, 6, 7, 8]],\n",
       " \n",
       "         [[0, 1, 2, 3, 4, 5, 6, 7, 8],\n",
       "          [0, 1, 2, 3, 4, 5, 6, 7, 8],\n",
       "          [0, 1, 2, 3, 4, 5, 6, 7, 8],\n",
       "          [0, 1, 2, 3, 4, 5, 6, 7, 8],\n",
       "          [0, 1, 2, 3, 4, 5, 6, 7, 8],\n",
       "          [0, 1, 2, 3, 4, 5, 6, 7, 8],\n",
       "          [0, 1, 2, 3, 4, 5, 6, 7, 8],\n",
       "          [0, 1, 2, 3, 4, 5, 6, 7, 8],\n",
       "          [0, 1, 2, 3, 4, 5, 6, 7, 8],\n",
       "          [0, 1, 2, 3, 4, 5, 6, 7, 8]]]),\n",
       " torch.Size([2, 10, 9]))"
      ]
     },
     "execution_count": 5,
     "metadata": {},
     "output_type": "execute_result"
    }
   ],
   "source": [
    "tensor2=tensor1.repeat(2,cols,1)\n",
    "tensor2,tensor2.shape"
   ]
  },
  {
   "cell_type": "code",
   "execution_count": 6,
   "id": "74b19451-1a36-4657-9312-b79f5b43f7be",
   "metadata": {},
   "outputs": [],
   "source": [
    "tensor1 = tensor2.repeat(2,1)\n",
    "tensor1"
   ]
  },
  {
   "cell_type": "code",
   "execution_count": null,
   "id": "ec84ce2b-ab77-4243-8520-1d37a669bf50",
   "metadata": {},
   "outputs": [],
   "source": []
  }
 ],
 "metadata": {
  "kernelspec": {
   "display_name": "Python [conda env:test] *",
   "language": "python",
   "name": "conda-env-test-py"
  },
  "language_info": {
   "codemirror_mode": {
    "name": "ipython",
    "version": 3
   },
   "file_extension": ".py",
   "mimetype": "text/x-python",
   "name": "python",
   "nbconvert_exporter": "python",
   "pygments_lexer": "ipython3",
   "version": "3.11.9"
  }
 },
 "nbformat": 4,
 "nbformat_minor": 5
}
