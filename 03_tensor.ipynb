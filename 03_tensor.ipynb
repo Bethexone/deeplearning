{
 "cells": [
  {
   "cell_type": "code",
   "execution_count": 1,
   "id": "36d63f83-026b-4bef-8b6f-c451bdb3e3b6",
   "metadata": {},
   "outputs": [],
   "source": [
    "import torch"
   ]
  },
  {
   "cell_type": "code",
   "execution_count": 2,
   "id": "7b1143d8-2ade-4358-ae22-88e291c62a1a",
   "metadata": {},
   "outputs": [
    {
     "data": {
      "text/plain": [
       "(tensor([[0, 0, 0, 0, 0, 0, 0, 0, 0, 0],\n",
       "         [1, 1, 1, 1, 1, 1, 1, 1, 1, 1],\n",
       "         [2, 2, 2, 2, 2, 2, 2, 2, 2, 2],\n",
       "         [3, 3, 3, 3, 3, 3, 3, 3, 3, 3],\n",
       "         [4, 4, 4, 4, 4, 4, 4, 4, 4, 4],\n",
       "         [5, 5, 5, 5, 5, 5, 5, 5, 5, 5],\n",
       "         [6, 6, 6, 6, 6, 6, 6, 6, 6, 6],\n",
       "         [7, 7, 7, 7, 7, 7, 7, 7, 7, 7],\n",
       "         [8, 8, 8, 8, 8, 8, 8, 8, 8, 8]]),\n",
       " torch.Size([9, 10]))"
      ]
     },
     "execution_count": 2,
     "metadata": {},
     "output_type": "execute_result"
    }
   ],
   "source": [
    "rows = 9\n",
    "cols = 10\n",
    "\n",
    "tensor = torch.arange(rows).repeat(cols,1).T\n",
    "tensor,tensor.shape"
   ]
  },
  {
   "cell_type": "code",
   "execution_count": 3,
   "id": "90f5983c-259f-4056-829c-eacddcbcbb08",
   "metadata": {},
   "outputs": [],
   "source": [
    "# tensor 不支持 负数步距\n",
    "# tensor  = tensor[::-1,:]"
   ]
  },
  {
   "cell_type": "code",
   "execution_count": 4,
   "id": "9cd4fe8b-9a4f-46ba-a707-f88491e96e94",
   "metadata": {},
   "outputs": [
    {
     "data": {
      "text/plain": [
       "tensor([[8, 8, 8, 8, 8, 8, 8, 8, 8, 8],\n",
       "        [7, 7, 7, 7, 7, 7, 7, 7, 7, 7],\n",
       "        [6, 6, 6, 6, 6, 6, 6, 6, 6, 6],\n",
       "        [5, 5, 5, 5, 5, 5, 5, 5, 5, 5],\n",
       "        [4, 4, 4, 4, 4, 4, 4, 4, 4, 4],\n",
       "        [3, 3, 3, 3, 3, 3, 3, 3, 3, 3],\n",
       "        [2, 2, 2, 2, 2, 2, 2, 2, 2, 2],\n",
       "        [1, 1, 1, 1, 1, 1, 1, 1, 1, 1],\n",
       "        [0, 0, 0, 0, 0, 0, 0, 0, 0, 0]])"
      ]
     },
     "execution_count": 4,
     "metadata": {},
     "output_type": "execute_result"
    }
   ],
   "source": [
    "tensorB = torch.flip(tensor,dims=[0])\n",
    "tensorB"
   ]
  },
  {
   "cell_type": "code",
   "execution_count": 5,
   "id": "4330d2b3-45b4-4724-b143-c78a9bc5237f",
   "metadata": {},
   "outputs": [
    {
     "data": {
      "text/plain": [
       "(tensor([[8, 8, 8, 8, 8, 8, 8, 8, 8, 8],\n",
       "         [8, 8, 8, 8, 8, 8, 8, 8, 8, 8],\n",
       "         [8, 8, 8, 8, 8, 8, 8, 8, 8, 8],\n",
       "         [8, 8, 8, 8, 8, 8, 8, 8, 8, 8],\n",
       "         [8, 8, 8, 8, 8, 8, 8, 8, 8, 8],\n",
       "         [8, 8, 8, 8, 8, 8, 8, 8, 8, 8],\n",
       "         [8, 8, 8, 8, 8, 8, 8, 8, 8, 8],\n",
       "         [8, 8, 8, 8, 8, 8, 8, 8, 8, 8],\n",
       "         [8, 8, 8, 8, 8, 8, 8, 8, 8, 8]]),\n",
       " tensor([[  0,   0,   0,   0,   0,   0,   0,   0,   0,   0],\n",
       "         [  1,   1,   1,   1,   1,   1,   1,   1,   1,   1],\n",
       "         [ 64,  64,  64,  64,  64,  64,  64,  64,  64,  64],\n",
       "         [243, 243, 243, 243, 243, 243, 243, 243, 243, 243],\n",
       "         [256, 256, 256, 256, 256, 256, 256, 256, 256, 256],\n",
       "         [125, 125, 125, 125, 125, 125, 125, 125, 125, 125],\n",
       "         [ 36,  36,  36,  36,  36,  36,  36,  36,  36,  36],\n",
       "         [  7,   7,   7,   7,   7,   7,   7,   7,   7,   7],\n",
       "         [  1,   1,   1,   1,   1,   1,   1,   1,   1,   1]]))"
      ]
     },
     "execution_count": 5,
     "metadata": {},
     "output_type": "execute_result"
    }
   ],
   "source": [
    "# ** 是幂运算\n",
    "tensor + tensorB,tensor ** tensorB"
   ]
  },
  {
   "cell_type": "code",
   "execution_count": 6,
   "id": "c516fcbc-0d14-4c89-beb1-8ab275b81c02",
   "metadata": {},
   "outputs": [
    {
     "data": {
      "text/plain": [
       "tensor([[ 0,  1,  2,  3],\n",
       "        [ 4,  5,  6,  7],\n",
       "        [ 8,  9, 10, 11]])"
      ]
     },
     "execution_count": 6,
     "metadata": {},
     "output_type": "execute_result"
    }
   ],
   "source": [
    "tensorC = torch.arange(12).reshape((3,4))\n",
    "tensorC"
   ]
  },
  {
   "cell_type": "code",
   "execution_count": 7,
   "id": "42453e58-fd50-4ff3-aaa1-7344fd1521d9",
   "metadata": {},
   "outputs": [
    {
     "data": {
      "text/plain": [
       "(torch.Size([9, 10]), torch.Size([9, 10]), torch.Size([3, 4]))"
      ]
     },
     "execution_count": 7,
     "metadata": {},
     "output_type": "execute_result"
    }
   ],
   "source": [
    "tensor.shape,tensorB.shape,tensorC.shape"
   ]
  },
  {
   "cell_type": "code",
   "execution_count": 8,
   "id": "a2bb2d50-e720-41ec-b26c-c16f066614bc",
   "metadata": {},
   "outputs": [],
   "source": [
    "# tensor + tensorC"
   ]
  },
  {
   "cell_type": "code",
   "execution_count": 9,
   "id": "5023c6b5-ec34-4b4a-8de6-6f9b3496eb38",
   "metadata": {},
   "outputs": [
    {
     "data": {
      "text/plain": [
       "(tensor([[ 0],\n",
       "         [ 1],\n",
       "         [ 2],\n",
       "         [ 3],\n",
       "         [ 4],\n",
       "         [ 5],\n",
       "         [ 6],\n",
       "         [ 7],\n",
       "         [ 8],\n",
       "         [ 9],\n",
       "         [10],\n",
       "         [11]]),\n",
       " torch.Size([12, 1]))"
      ]
     },
     "execution_count": 9,
     "metadata": {},
     "output_type": "execute_result"
    }
   ],
   "source": [
    "tensorC = tensorC.reshape((12,1))\n",
    "tensorC,tensorC.shape"
   ]
  },
  {
   "cell_type": "raw",
   "id": "e5e4d211-96e9-4086-b9e7-415ac3a95d9e",
   "metadata": {},
   "source": [
    "tensor + tensorC"
   ]
  },
  {
   "cell_type": "code",
   "execution_count": 10,
   "id": "60513b5b-67a5-4631-81dd-5f915d53dca9",
   "metadata": {},
   "outputs": [
    {
     "data": {
      "text/plain": [
       "(tensor([[0],\n",
       "         [1],\n",
       "         [2]]),\n",
       " tensor([[0, 1]]),\n",
       " tensor([[0, 1],\n",
       "         [1, 2],\n",
       "         [2, 3]]))"
      ]
     },
     "execution_count": 10,
     "metadata": {},
     "output_type": "execute_result"
    }
   ],
   "source": [
    "a = torch.arange(3).reshape((3,1))\n",
    "b = torch.arange(2).reshape((1,2))\n",
    "a,b,a+b"
   ]
  },
  {
   "cell_type": "code",
   "execution_count": 11,
   "id": "a9fe5c50-9aa0-481c-aca4-aaea3b8c95cd",
   "metadata": {},
   "outputs": [
    {
     "data": {
      "text/plain": [
       "(tensor([[0, 0, 0, 0, 0, 0, 0, 0, 0, 0, 1, 1, 1, 1, 1, 1, 1, 1, 1, 1, 2, 2, 2, 2,\n",
       "          2, 2, 2, 2, 2, 2, 3, 3, 3, 3, 3, 3, 3, 3, 3, 3, 4, 4, 4, 4, 4, 4, 4, 4,\n",
       "          4, 4, 5, 5, 5, 5, 5, 5, 5, 5, 5, 5, 6, 6, 6, 6, 6, 6, 6, 6, 6, 6, 7, 7,\n",
       "          7, 7, 7, 7, 7, 7, 7, 7, 8, 8, 8, 8, 8, 8, 8, 8, 8, 8]]),\n",
       " torch.Size([1, 90]))"
      ]
     },
     "execution_count": 11,
     "metadata": {},
     "output_type": "execute_result"
    }
   ],
   "source": [
    "tensorD = tensor.reshape((1,90))\n",
    "tensorD,tensorD.shape"
   ]
  },
  {
   "cell_type": "code",
   "execution_count": 12,
   "id": "1fbcb35b-4d25-450f-ad5a-9d36c60a09f5",
   "metadata": {},
   "outputs": [
    {
     "data": {
      "text/plain": [
       "tensor([[ 0,  0,  0,  ...,  8,  8,  8],\n",
       "        [ 1,  1,  1,  ...,  9,  9,  9],\n",
       "        [ 2,  2,  2,  ..., 10, 10, 10],\n",
       "        ...,\n",
       "        [ 9,  9,  9,  ..., 17, 17, 17],\n",
       "        [10, 10, 10,  ..., 18, 18, 18],\n",
       "        [11, 11, 11,  ..., 19, 19, 19]])"
      ]
     },
     "execution_count": 12,
     "metadata": {},
     "output_type": "execute_result"
    }
   ],
   "source": [
    "tensorC + tensorD "
   ]
  },
  {
   "cell_type": "markdown",
   "id": "724b9f84-6f06-4332-9b7b-cbc9b705d0ff",
   "metadata": {},
   "source": [
    "**广播机制必须是维度相同，且对应维度形状相同或者其中一个维度形状为1.**"
   ]
  },
  {
   "cell_type": "markdown",
   "id": "b6b4d8f8-52af-4f5d-b2ba-01d4bf39f960",
   "metadata": {},
   "source": [
    "### 内存问题"
   ]
  },
  {
   "cell_type": "code",
   "execution_count": 13,
   "id": "17753482-7480-470f-ba8d-115688f391c9",
   "metadata": {},
   "outputs": [
    {
     "data": {
      "text/plain": [
       "(tensor([[0, 0, 0, 0, 0, 0, 0, 0, 0, 0],\n",
       "         [1, 1, 1, 1, 1, 1, 1, 1, 1, 1],\n",
       "         [2, 2, 2, 2, 2, 2, 2, 2, 2, 2],\n",
       "         [3, 3, 3, 3, 3, 3, 3, 3, 3, 3],\n",
       "         [4, 4, 4, 4, 4, 4, 4, 4, 4, 4],\n",
       "         [5, 5, 5, 5, 5, 5, 5, 5, 5, 5],\n",
       "         [6, 6, 6, 6, 6, 6, 6, 6, 6, 6],\n",
       "         [7, 7, 7, 7, 7, 7, 7, 7, 7, 7],\n",
       "         [8, 8, 8, 8, 8, 8, 8, 8, 8, 8]]),\n",
       " torch.Size([9, 10]))"
      ]
     },
     "execution_count": 13,
     "metadata": {},
     "output_type": "execute_result"
    }
   ],
   "source": [
    "tensor,tensor.shape"
   ]
  },
  {
   "cell_type": "markdown",
   "id": "52b2bd1a-1af1-4948-864c-5cd66f92d07f",
   "metadata": {},
   "source": [
    "**执行运算时，即使赋值为同一个变量，依旧相当于 开辟新内存后销毁之前状态，内存交换增加**  \n",
    "**id 函数相当于得到地址**"
   ]
  },
  {
   "cell_type": "code",
   "execution_count": 14,
   "id": "f98cf776-dc40-4b99-8fff-a4e6ae34d67d",
   "metadata": {},
   "outputs": [
    {
     "data": {
      "text/plain": [
       "False"
      ]
     },
     "execution_count": 14,
     "metadata": {},
     "output_type": "execute_result"
    }
   ],
   "source": [
    "addr = id(tensor)\n",
    "tensor = tensor + tensorB\n",
    "id(tensor) == addr"
   ]
  },
  {
   "cell_type": "markdown",
   "id": "2292b73a-5937-484f-b2c7-b6feaae402c9",
   "metadata": {},
   "source": [
    "**对元素进行操作，则不会更改内存空间**"
   ]
  },
  {
   "cell_type": "code",
   "execution_count": 15,
   "id": "84171492-e9a1-4180-bfc4-291d027d3560",
   "metadata": {},
   "outputs": [
    {
     "data": {
      "text/plain": [
       "True"
      ]
     },
     "execution_count": 15,
     "metadata": {},
     "output_type": "execute_result"
    }
   ],
   "source": [
    "addr = id(tensor)\n",
    "tensor[:] = tensor + tensorB\n",
    "id(tensor) == addr"
   ]
  },
  {
   "cell_type": "markdown",
   "id": "69c80e46-c23e-4463-a978-c10a5e35e07c",
   "metadata": {},
   "source": [
    "**直接进行赋值操作，不会因为新的变量名而开辟新的内存空间，两个变量共有一块内存区域。此时修改tensorA同时也是在修改tensor**"
   ]
  },
  {
   "cell_type": "code",
   "execution_count": 16,
   "id": "b3f0f146-98e9-4836-a0ab-669eb5e15669",
   "metadata": {},
   "outputs": [
    {
     "data": {
      "text/plain": [
       "(True,\n",
       " tensor([[16, 16, 16, 16, 16, 16, 16, 16, 16, 16],\n",
       "         [15, 15, 15, 15, 15, 15, 15, 15, 15, 15],\n",
       "         [14, 14, 14, 14, 14, 14, 14, 14, 14, 14],\n",
       "         [13, 13, 13, 13, 13, 13, 13, 13, 13, 13],\n",
       "         [12, 12, 12, 12, 12, 12, 12, 12, 12, 12],\n",
       "         [11, 11, 11, 11, 11, 11, 11, 11, 11, 11],\n",
       "         [10, 10, 10, 10, 10, 10, 10, 10, 10, 10],\n",
       "         [ 9,  9,  9,  9,  9,  9,  9,  9,  9,  9],\n",
       "         [ 8,  8,  8,  8,  8,  8,  8,  8,  8,  8]]))"
      ]
     },
     "execution_count": 16,
     "metadata": {},
     "output_type": "execute_result"
    }
   ],
   "source": [
    "tensorA = tensor\n",
    "id(tensor) == id(tensorA),tensorA"
   ]
  },
  {
   "cell_type": "code",
   "execution_count": 17,
   "id": "6ce4f329-0f5c-46b4-bdc1-1de4adb4d1b3",
   "metadata": {},
   "outputs": [
    {
     "data": {
      "text/plain": [
       "(tensor([[10, 16, 16, 16, 16, 16, 16, 16, 16, 16],\n",
       "         [15, 15, 15, 15, 15, 15, 15, 15, 15, 15],\n",
       "         [14, 14, 14, 14, 14, 14, 14, 14, 14, 14],\n",
       "         [13, 13, 13, 13, 13, 13, 13, 13, 13, 13],\n",
       "         [12, 12, 12, 12, 12, 12, 12, 12, 12, 12],\n",
       "         [11, 11, 11, 11, 11, 11, 11, 11, 11, 11],\n",
       "         [10, 10, 10, 10, 10, 10, 10, 10, 10, 10],\n",
       "         [ 9,  9,  9,  9,  9,  9,  9,  9,  9,  9],\n",
       "         [ 8,  8,  8,  8,  8,  8,  8,  8,  8,  8]]),\n",
       " tensor([[10, 16, 16, 16, 16, 16, 16, 16, 16, 16],\n",
       "         [15, 15, 15, 15, 15, 15, 15, 15, 15, 15],\n",
       "         [14, 14, 14, 14, 14, 14, 14, 14, 14, 14],\n",
       "         [13, 13, 13, 13, 13, 13, 13, 13, 13, 13],\n",
       "         [12, 12, 12, 12, 12, 12, 12, 12, 12, 12],\n",
       "         [11, 11, 11, 11, 11, 11, 11, 11, 11, 11],\n",
       "         [10, 10, 10, 10, 10, 10, 10, 10, 10, 10],\n",
       "         [ 9,  9,  9,  9,  9,  9,  9,  9,  9,  9],\n",
       "         [ 8,  8,  8,  8,  8,  8,  8,  8,  8,  8]]))"
      ]
     },
     "execution_count": 17,
     "metadata": {},
     "output_type": "execute_result"
    }
   ],
   "source": [
    "# 修改tensorA的同时tensor也在变换\n",
    "tensorA[0,0] = 10 \n",
    "tensorA,tensor"
   ]
  },
  {
   "cell_type": "markdown",
   "id": "b52982fc-0373-4176-8f20-7ae1e5543a2c",
   "metadata": {},
   "source": [
    "**使用clone，可以为新变量开辟新的内存，此时tensorA与tensor无关**"
   ]
  },
  {
   "cell_type": "code",
   "execution_count": 18,
   "id": "1bb556c8-b924-45c3-a453-d5a1a4a91891",
   "metadata": {},
   "outputs": [
    {
     "data": {
      "text/plain": [
       "(False,\n",
       " tensor([[10, 16, 16, 16, 16, 16, 16, 16, 16, 16],\n",
       "         [15, 15, 15, 15, 15, 15, 15, 15, 15, 15],\n",
       "         [14, 14, 14, 14, 14, 14, 14, 14, 14, 14],\n",
       "         [13, 13, 13, 13, 13, 13, 13, 13, 13, 13],\n",
       "         [12, 12, 12, 12, 12, 12, 12, 12, 12, 12],\n",
       "         [11, 11, 11, 11, 11, 11, 11, 11, 11, 11],\n",
       "         [10, 10, 10, 10, 10, 10, 10, 10, 10, 10],\n",
       "         [ 9,  9,  9,  9,  9,  9,  9,  9,  9,  9],\n",
       "         [ 8,  8,  8,  8,  8,  8,  8,  8,  8,  8]]))"
      ]
     },
     "execution_count": 18,
     "metadata": {},
     "output_type": "execute_result"
    }
   ],
   "source": [
    "tensorA = tensor.clone()\n",
    "id(tensor) == id(tensorA),tensorA"
   ]
  },
  {
   "cell_type": "code",
   "execution_count": 19,
   "id": "983bd8f1-9b7e-48a9-a56c-ed438530c736",
   "metadata": {},
   "outputs": [
    {
     "data": {
      "text/plain": [
       "(tensor([[16, 16, 16, 16, 16, 16, 16, 16, 16, 16],\n",
       "         [15, 15, 15, 15, 15, 15, 15, 15, 15, 15],\n",
       "         [14, 14, 14, 14, 14, 14, 14, 14, 14, 14],\n",
       "         [13, 13, 13, 13, 13, 13, 13, 13, 13, 13],\n",
       "         [12, 12, 12, 12, 12, 12, 12, 12, 12, 12],\n",
       "         [11, 11, 11, 11, 11, 11, 11, 11, 11, 11],\n",
       "         [10, 10, 10, 10, 10, 10, 10, 10, 10, 10],\n",
       "         [ 9,  9,  9,  9,  9,  9,  9,  9,  9,  9],\n",
       "         [ 8,  8,  8,  8,  8,  8,  8,  8,  8,  8]]),\n",
       " tensor([[10, 16, 16, 16, 16, 16, 16, 16, 16, 16],\n",
       "         [15, 15, 15, 15, 15, 15, 15, 15, 15, 15],\n",
       "         [14, 14, 14, 14, 14, 14, 14, 14, 14, 14],\n",
       "         [13, 13, 13, 13, 13, 13, 13, 13, 13, 13],\n",
       "         [12, 12, 12, 12, 12, 12, 12, 12, 12, 12],\n",
       "         [11, 11, 11, 11, 11, 11, 11, 11, 11, 11],\n",
       "         [10, 10, 10, 10, 10, 10, 10, 10, 10, 10],\n",
       "         [ 9,  9,  9,  9,  9,  9,  9,  9,  9,  9],\n",
       "         [ 8,  8,  8,  8,  8,  8,  8,  8,  8,  8]]))"
      ]
     },
     "execution_count": 19,
     "metadata": {},
     "output_type": "execute_result"
    }
   ],
   "source": [
    "# 修改tensorA，tensor不会变化\n",
    "tensorA[0,0] = 16 \n",
    "tensorA,tensor"
   ]
  },
  {
   "cell_type": "markdown",
   "id": "18e795fc-2cd5-459e-9bc7-fcb51cac656c",
   "metadata": {},
   "source": [
    "### sum  \n",
    "**axis参数是维数从大到小。axis=0代表最高维。**  \n",
    "**axis的维数个人理解并非是平等的，而是分阶层的。例如3*3的矩阵**  \n",
    "\n",
    "[[1,2,3],[4,5,6],[7,8,9]]  \n",
    "axis=0,该维度下的元素为[1,2,3]...  \n",
    "axis=1该维度下的元素为 1,2...  \n",
    "对应维度相加即是以什么维度下的元素为单位相加。so："
   ]
  },
  {
   "cell_type": "code",
   "execution_count": 20,
   "id": "48e8797d-a5bd-4b9b-a6cf-4331258560d0",
   "metadata": {},
   "outputs": [
    {
     "data": {
      "text/plain": [
       "(tensor([[[[10, 16, 16, 16, 16, 16, 16, 16, 16, 16],\n",
       "           [15, 15, 15, 15, 15, 15, 15, 15, 15, 15],\n",
       "           [14, 14, 14, 14, 14, 14, 14, 14, 14, 14]],\n",
       " \n",
       "          [[13, 13, 13, 13, 13, 13, 13, 13, 13, 13],\n",
       "           [12, 12, 12, 12, 12, 12, 12, 12, 12, 12],\n",
       "           [11, 11, 11, 11, 11, 11, 11, 11, 11, 11]],\n",
       " \n",
       "          [[10, 10, 10, 10, 10, 10, 10, 10, 10, 10],\n",
       "           [ 9,  9,  9,  9,  9,  9,  9,  9,  9,  9],\n",
       "           [ 8,  8,  8,  8,  8,  8,  8,  8,  8,  8]]]]),\n",
       " torch.Size([1, 3, 3, 10]))"
      ]
     },
     "execution_count": 20,
     "metadata": {},
     "output_type": "execute_result"
    }
   ],
   "source": [
    "tensor = tensor.reshape((1,3,3,10))\n",
    "tensor,tensor.shape"
   ]
  },
  {
   "cell_type": "code",
   "execution_count": 21,
   "id": "01809557-83f6-4f52-8c98-834b2b7a046f",
   "metadata": {},
   "outputs": [
    {
     "data": {
      "text/plain": [
       "(tensor(1074), torch.Size([]))"
      ]
     },
     "execution_count": 21,
     "metadata": {},
     "output_type": "execute_result"
    }
   ],
   "source": [
    "tensor.sum(),tensor.sum().shape"
   ]
  },
  {
   "cell_type": "code",
   "execution_count": 59,
   "id": "bc68b96e-1bed-4e9a-820d-e94e42e527e6",
   "metadata": {},
   "outputs": [
    {
     "data": {
      "text/plain": [
       "(tensor([[[[10, 16, 16, 16, 16, 16, 16, 16, 16, 16],\n",
       "           [15, 15, 15, 15, 15, 15, 15, 15, 15, 15],\n",
       "           [14, 14, 14, 14, 14, 14, 14, 14, 14, 14]],\n",
       " \n",
       "          [[13, 13, 13, 13, 13, 13, 13, 13, 13, 13],\n",
       "           [12, 12, 12, 12, 12, 12, 12, 12, 12, 12],\n",
       "           [11, 11, 11, 11, 11, 11, 11, 11, 11, 11]],\n",
       " \n",
       "          [[10, 10, 10, 10, 10, 10, 10, 10, 10, 10],\n",
       "           [ 9,  9,  9,  9,  9,  9,  9,  9,  9,  9],\n",
       "           [ 8,  8,  8,  8,  8,  8,  8,  8,  8,  8]]]]),\n",
       " tensor([[[10, 16, 16, 16, 16, 16, 16, 16, 16, 16],\n",
       "          [15, 15, 15, 15, 15, 15, 15, 15, 15, 15],\n",
       "          [14, 14, 14, 14, 14, 14, 14, 14, 14, 14]],\n",
       " \n",
       "         [[13, 13, 13, 13, 13, 13, 13, 13, 13, 13],\n",
       "          [12, 12, 12, 12, 12, 12, 12, 12, 12, 12],\n",
       "          [11, 11, 11, 11, 11, 11, 11, 11, 11, 11]],\n",
       " \n",
       "         [[10, 10, 10, 10, 10, 10, 10, 10, 10, 10],\n",
       "          [ 9,  9,  9,  9,  9,  9,  9,  9,  9,  9],\n",
       "          [ 8,  8,  8,  8,  8,  8,  8,  8,  8,  8]]]),\n",
       " torch.Size([3, 3, 10]))"
      ]
     },
     "execution_count": 59,
     "metadata": {},
     "output_type": "execute_result"
    }
   ],
   "source": [
    "a = tensor.sum(axis=0)\n",
    "tensor,a,a.shape"
   ]
  },
  {
   "cell_type": "code",
   "execution_count": 29,
   "id": "9800f589-dd62-46d9-80d6-75efaad1282c",
   "metadata": {},
   "outputs": [
    {
     "data": {
      "text/plain": [
       "(tensor([[[[10, 16, 16, 16, 16, 16, 16, 16, 16, 16],\n",
       "           [15, 15, 15, 15, 15, 15, 15, 15, 15, 15],\n",
       "           [14, 14, 14, 14, 14, 14, 14, 14, 14, 14]],\n",
       " \n",
       "          [[13, 13, 13, 13, 13, 13, 13, 13, 13, 13],\n",
       "           [12, 12, 12, 12, 12, 12, 12, 12, 12, 12],\n",
       "           [11, 11, 11, 11, 11, 11, 11, 11, 11, 11]],\n",
       " \n",
       "          [[10, 10, 10, 10, 10, 10, 10, 10, 10, 10],\n",
       "           [ 9,  9,  9,  9,  9,  9,  9,  9,  9,  9],\n",
       "           [ 8,  8,  8,  8,  8,  8,  8,  8,  8,  8]]]]),\n",
       " tensor([[[33, 39, 39, 39, 39, 39, 39, 39, 39, 39],\n",
       "          [36, 36, 36, 36, 36, 36, 36, 36, 36, 36],\n",
       "          [33, 33, 33, 33, 33, 33, 33, 33, 33, 33]]]),\n",
       " torch.Size([1, 3, 10]))"
      ]
     },
     "execution_count": 29,
     "metadata": {},
     "output_type": "execute_result"
    }
   ],
   "source": [
    "a = tensor.sum(axis=1)\n",
    "tensor,a,a.shape"
   ]
  },
  {
   "cell_type": "code",
   "execution_count": 60,
   "id": "2068e6d5-207f-44ea-a985-8d8feee9ccf9",
   "metadata": {},
   "outputs": [
    {
     "data": {
      "text/plain": [
       "(tensor([[[39, 45, 45, 45, 45, 45, 45, 45, 45, 45],\n",
       "          [36, 36, 36, 36, 36, 36, 36, 36, 36, 36],\n",
       "          [27, 27, 27, 27, 27, 27, 27, 27, 27, 27]]]),\n",
       " torch.Size([1, 3, 3, 10]),\n",
       " torch.Size([1, 3, 10]))"
      ]
     },
     "execution_count": 60,
     "metadata": {},
     "output_type": "execute_result"
    }
   ],
   "source": [
    "a = tensor.sum(axis=2)\n",
    "a,tensor.shape,a.shape"
   ]
  },
  {
   "cell_type": "code",
   "execution_count": 61,
   "id": "3a6ee172-286f-44a4-bb2c-f5e0f2a207e8",
   "metadata": {},
   "outputs": [
    {
     "data": {
      "text/plain": [
       "(tensor([[[154, 150, 140],\n",
       "          [130, 120, 110],\n",
       "          [100,  90,  80]]]),\n",
       " torch.Size([1, 3, 3, 10]),\n",
       " torch.Size([1, 3, 3]))"
      ]
     },
     "execution_count": 61,
     "metadata": {},
     "output_type": "execute_result"
    }
   ],
   "source": [
    "a = tensor.sum(axis=3)\n",
    "a,tensor.shape,a.shape"
   ]
  },
  {
   "cell_type": "markdown",
   "id": "23d01f82-b5b0-4c80-a175-2016699a3a6e",
   "metadata": {},
   "source": [
    "**axis=(\\*1,\\*2)时，相当于先进行\\*1维度的相加，再进行\\*2维度的。也可以将两个步骤交换**"
   ]
  },
  {
   "cell_type": "code",
   "execution_count": 63,
   "id": "da7e5256-8196-49d9-a325-fd928f275f33",
   "metadata": {},
   "outputs": [
    {
     "data": {
      "text/plain": [
       "(tensor([[102, 108, 108, 108, 108, 108, 108, 108, 108, 108]]),\n",
       " tensor([[[[10, 16, 16, 16, 16, 16, 16, 16, 16, 16],\n",
       "           [15, 15, 15, 15, 15, 15, 15, 15, 15, 15],\n",
       "           [14, 14, 14, 14, 14, 14, 14, 14, 14, 14]],\n",
       " \n",
       "          [[13, 13, 13, 13, 13, 13, 13, 13, 13, 13],\n",
       "           [12, 12, 12, 12, 12, 12, 12, 12, 12, 12],\n",
       "           [11, 11, 11, 11, 11, 11, 11, 11, 11, 11]],\n",
       " \n",
       "          [[10, 10, 10, 10, 10, 10, 10, 10, 10, 10],\n",
       "           [ 9,  9,  9,  9,  9,  9,  9,  9,  9,  9],\n",
       "           [ 8,  8,  8,  8,  8,  8,  8,  8,  8,  8]]]]),\n",
       " torch.Size([1, 3, 3, 10]),\n",
       " torch.Size([1, 10]))"
      ]
     },
     "execution_count": 63,
     "metadata": {},
     "output_type": "execute_result"
    }
   ],
   "source": [
    "a = tensor.sum(axis=(1,2))\n",
    "a,tensor,tensor.shape,a.shape"
   ]
  },
  {
   "cell_type": "code",
   "execution_count": null,
   "id": "8b29cbfc-345e-471c-b934-f72d7c8e713f",
   "metadata": {},
   "outputs": [],
   "source": []
  },
  {
   "cell_type": "markdown",
   "id": "d95fc209-9504-4169-a246-b4b6202ea9d3",
   "metadata": {},
   "source": [
    "**keepdims=True,保存维度数不变，被加的轴 轴长变为1，便于使用广播机制进行运算**"
   ]
  },
  {
   "cell_type": "code",
   "execution_count": 25,
   "id": "f8388d64-18bd-46e1-8fec-26d70471b14b",
   "metadata": {},
   "outputs": [
    {
     "data": {
      "text/plain": [
       "(tensor([[[[33, 39, 39, 39, 39, 39, 39, 39, 39, 39],\n",
       "           [36, 36, 36, 36, 36, 36, 36, 36, 36, 36],\n",
       "           [33, 33, 33, 33, 33, 33, 33, 33, 33, 33]]]]),\n",
       " torch.Size([1, 1, 3, 10]))"
      ]
     },
     "execution_count": 25,
     "metadata": {},
     "output_type": "execute_result"
    }
   ],
   "source": [
    "a = tensor.sum(axis=1,keepdims=True)\n",
    "a,a.shape"
   ]
  },
  {
   "cell_type": "code",
   "execution_count": 26,
   "id": "52598129-f1ae-4b17-9a91-02c4a4c56810",
   "metadata": {},
   "outputs": [
    {
     "data": {
      "text/plain": [
       "(tensor([[[[3.3000, 2.4375, 2.4375, 2.4375, 2.4375, 2.4375, 2.4375, 2.4375,\n",
       "            2.4375, 2.4375],\n",
       "           [2.4000, 2.4000, 2.4000, 2.4000, 2.4000, 2.4000, 2.4000, 2.4000,\n",
       "            2.4000, 2.4000],\n",
       "           [2.3571, 2.3571, 2.3571, 2.3571, 2.3571, 2.3571, 2.3571, 2.3571,\n",
       "            2.3571, 2.3571]],\n",
       " \n",
       "          [[2.5385, 3.0000, 3.0000, 3.0000, 3.0000, 3.0000, 3.0000, 3.0000,\n",
       "            3.0000, 3.0000],\n",
       "           [3.0000, 3.0000, 3.0000, 3.0000, 3.0000, 3.0000, 3.0000, 3.0000,\n",
       "            3.0000, 3.0000],\n",
       "           [3.0000, 3.0000, 3.0000, 3.0000, 3.0000, 3.0000, 3.0000, 3.0000,\n",
       "            3.0000, 3.0000]],\n",
       " \n",
       "          [[3.3000, 3.9000, 3.9000, 3.9000, 3.9000, 3.9000, 3.9000, 3.9000,\n",
       "            3.9000, 3.9000],\n",
       "           [4.0000, 4.0000, 4.0000, 4.0000, 4.0000, 4.0000, 4.0000, 4.0000,\n",
       "            4.0000, 4.0000],\n",
       "           [4.1250, 4.1250, 4.1250, 4.1250, 4.1250, 4.1250, 4.1250, 4.1250,\n",
       "            4.1250, 4.1250]]]]),\n",
       " torch.Size([1, 1, 3, 10]),\n",
       " torch.Size([1, 3, 3, 10]),\n",
       " torch.Size([1, 3, 3, 10]))"
      ]
     },
     "execution_count": 26,
     "metadata": {},
     "output_type": "execute_result"
    }
   ],
   "source": [
    "a/tensor,a.shape,tensor.shape,(a/tensor).shape"
   ]
  },
  {
   "cell_type": "markdown",
   "id": "3e4f0043-e0d4-4fb0-832f-4c89cc0d9ced",
   "metadata": {},
   "source": [
    "### 累加求和 cumsum"
   ]
  },
  {
   "cell_type": "code",
   "execution_count": 30,
   "id": "3a8317f1-b237-4c29-8ca7-6be3023d1453",
   "metadata": {},
   "outputs": [
    {
     "data": {
      "text/plain": [
       "(tensor([[[[10, 16, 16, 16, 16, 16, 16, 16, 16, 16],\n",
       "           [15, 15, 15, 15, 15, 15, 15, 15, 15, 15],\n",
       "           [14, 14, 14, 14, 14, 14, 14, 14, 14, 14]],\n",
       " \n",
       "          [[13, 13, 13, 13, 13, 13, 13, 13, 13, 13],\n",
       "           [12, 12, 12, 12, 12, 12, 12, 12, 12, 12],\n",
       "           [11, 11, 11, 11, 11, 11, 11, 11, 11, 11]],\n",
       " \n",
       "          [[10, 10, 10, 10, 10, 10, 10, 10, 10, 10],\n",
       "           [ 9,  9,  9,  9,  9,  9,  9,  9,  9,  9],\n",
       "           [ 8,  8,  8,  8,  8,  8,  8,  8,  8,  8]]]]),\n",
       " torch.Size([1, 3, 3, 10]),\n",
       " tensor([[[[10, 16, 16, 16, 16, 16, 16, 16, 16, 16],\n",
       "           [15, 15, 15, 15, 15, 15, 15, 15, 15, 15],\n",
       "           [14, 14, 14, 14, 14, 14, 14, 14, 14, 14]],\n",
       " \n",
       "          [[23, 29, 29, 29, 29, 29, 29, 29, 29, 29],\n",
       "           [27, 27, 27, 27, 27, 27, 27, 27, 27, 27],\n",
       "           [25, 25, 25, 25, 25, 25, 25, 25, 25, 25]],\n",
       " \n",
       "          [[33, 39, 39, 39, 39, 39, 39, 39, 39, 39],\n",
       "           [36, 36, 36, 36, 36, 36, 36, 36, 36, 36],\n",
       "           [33, 33, 33, 33, 33, 33, 33, 33, 33, 33]]]]),\n",
       " torch.Size([1, 3, 3, 10]))"
      ]
     },
     "execution_count": 30,
     "metadata": {},
     "output_type": "execute_result"
    }
   ],
   "source": [
    "a = tensor.cumsum(axis = 1)\n",
    "tensor,tensor.shape,a,a.shape"
   ]
  },
  {
   "cell_type": "code",
   "execution_count": 36,
   "id": "1c063db2-8f2f-4df1-a48b-dc8d5be609a8",
   "metadata": {},
   "outputs": [
    {
     "data": {
      "text/plain": [
       "(tensor([[[33, 39, 39, 39, 39, 39, 39, 39, 39, 39],\n",
       "          [36, 36, 36, 36, 36, 36, 36, 36, 36, 36],\n",
       "          [33, 33, 33, 33, 33, 33, 33, 33, 33, 33]]]),\n",
       " tensor([[[33, 39, 39, 39, 39, 39, 39, 39, 39, 39],\n",
       "          [36, 36, 36, 36, 36, 36, 36, 36, 36, 36],\n",
       "          [33, 33, 33, 33, 33, 33, 33, 33, 33, 33]]]),\n",
       " torch.Size([1, 3, 10]),\n",
       " torch.Size([1, 3, 10]))"
      ]
     },
     "execution_count": 36,
     "metadata": {},
     "output_type": "execute_result"
    }
   ],
   "source": [
    "a[:,-1,:,:],tensor.sum(axis=1),tensor.sum(axis=1).shape, a[:,-1,:,:].shape"
   ]
  },
  {
   "cell_type": "markdown",
   "id": "10314d47-10c7-4458-aad3-ce6b43c31c1a",
   "metadata": {},
   "source": [
    "### 向量点积"
   ]
  },
  {
   "cell_type": "code",
   "execution_count": 44,
   "id": "e36cdb69-52cb-4334-88d2-5d75cdfe0a6b",
   "metadata": {},
   "outputs": [
    {
     "data": {
      "text/plain": [
       "(tensor([ 0,  2,  4,  6,  8, 10]),\n",
       " torch.Size([6]),\n",
       " tensor([0, 1, 2, 3, 4, 5]),\n",
       " torch.Size([6]))"
      ]
     },
     "execution_count": 44,
     "metadata": {},
     "output_type": "execute_result"
    }
   ],
   "source": [
    "a = torch.arange(0,12,2)\n",
    "b = torch.arange(6)\n",
    "a,a.shape,b,b.shape"
   ]
  },
  {
   "cell_type": "code",
   "execution_count": 46,
   "id": "7b8fc6e1-bfca-4106-bb9d-2b039fec232b",
   "metadata": {},
   "outputs": [
    {
     "data": {
      "text/plain": [
       "(tensor(110), tensor([ 0,  2,  8, 18, 32, 50]), tensor(110))"
      ]
     },
     "execution_count": 46,
     "metadata": {},
     "output_type": "execute_result"
    }
   ],
   "source": [
    "torch.dot(a,b),a*b,torch.sum(a*b)"
   ]
  },
  {
   "cell_type": "markdown",
   "id": "3a2f802d-1413-4af4-8f5a-0f13fe57bfe2",
   "metadata": {},
   "source": [
    "### 矩阵与向量相乘"
   ]
  },
  {
   "cell_type": "code",
   "execution_count": 49,
   "id": "52c8d95b-a122-4ecc-a6a5-16dbfd60ee8d",
   "metadata": {},
   "outputs": [
    {
     "data": {
      "text/plain": [
       "(tensor([[[[10, 16, 16, 16, 16, 16, 16, 16, 16, 16],\n",
       "           [15, 15, 15, 15, 15, 15, 15, 15, 15, 15],\n",
       "           [14, 14, 14, 14, 14, 14, 14, 14, 14, 14]],\n",
       " \n",
       "          [[13, 13, 13, 13, 13, 13, 13, 13, 13, 13],\n",
       "           [12, 12, 12, 12, 12, 12, 12, 12, 12, 12],\n",
       "           [11, 11, 11, 11, 11, 11, 11, 11, 11, 11]],\n",
       " \n",
       "          [[10, 10, 10, 10, 10, 10, 10, 10, 10, 10],\n",
       "           [ 9,  9,  9,  9,  9,  9,  9,  9,  9,  9],\n",
       "           [ 8,  8,  8,  8,  8,  8,  8,  8,  8,  8]]]]),\n",
       " torch.Size([1, 3, 3, 10]))"
      ]
     },
     "execution_count": 49,
     "metadata": {},
     "output_type": "execute_result"
    }
   ],
   "source": [
    "tensor,tensor.shape"
   ]
  },
  {
   "cell_type": "raw",
   "id": "33cc9b54-dbd2-452b-b00c-a9bb27258acb",
   "metadata": {},
   "source": [
    "a = torch.arange(10)\n",
    "a,torch.mv(tensor,a)"
   ]
  },
  {
   "cell_type": "code",
   "execution_count": 51,
   "id": "cd57dd54-583b-43b6-90b6-246db83f4455",
   "metadata": {},
   "outputs": [
    {
     "data": {
      "text/plain": [
       "(tensor([[8, 8, 8, 8, 8, 8, 8, 8, 8, 8],\n",
       "         [7, 7, 7, 7, 7, 7, 7, 7, 7, 7],\n",
       "         [6, 6, 6, 6, 6, 6, 6, 6, 6, 6],\n",
       "         [5, 5, 5, 5, 5, 5, 5, 5, 5, 5],\n",
       "         [4, 4, 4, 4, 4, 4, 4, 4, 4, 4],\n",
       "         [3, 3, 3, 3, 3, 3, 3, 3, 3, 3],\n",
       "         [2, 2, 2, 2, 2, 2, 2, 2, 2, 2],\n",
       "         [1, 1, 1, 1, 1, 1, 1, 1, 1, 1],\n",
       "         [0, 0, 0, 0, 0, 0, 0, 0, 0, 0]]),\n",
       " torch.Size([9, 10]))"
      ]
     },
     "execution_count": 51,
     "metadata": {},
     "output_type": "execute_result"
    }
   ],
   "source": [
    "tensorB,tensorB.shape"
   ]
  },
  {
   "cell_type": "code",
   "execution_count": 52,
   "id": "8a194172-60f5-44bd-a773-feda902ee7b5",
   "metadata": {},
   "outputs": [
    {
     "data": {
      "text/plain": [
       "(tensor([0, 1, 2, 3, 4, 5, 6, 7, 8, 9]),\n",
       " tensor([360, 315, 270, 225, 180, 135,  90,  45,   0]),\n",
       " torch.Size([9]))"
      ]
     },
     "execution_count": 52,
     "metadata": {},
     "output_type": "execute_result"
    }
   ],
   "source": [
    "a = torch.arange(10)\n",
    "a,torch.mv(tensorB,a),torch.mv(tensorB,a).shape"
   ]
  },
  {
   "cell_type": "markdown",
   "id": "71d5c4bf-8034-4ca2-a580-a5c6ab58eb70",
   "metadata": {},
   "source": [
    "### 矩阵相乘"
   ]
  },
  {
   "cell_type": "code",
   "execution_count": 56,
   "id": "5bf83b35-2e5c-479d-9473-3c31aaa6537f",
   "metadata": {},
   "outputs": [
    {
     "data": {
      "text/plain": [
       "(tensor([[16, 16, 16, 16, 16, 16, 16, 16, 16, 16],\n",
       "         [15, 15, 15, 15, 15, 15, 15, 15, 15, 15],\n",
       "         [14, 14, 14, 14, 14, 14, 14, 14, 14, 14],\n",
       "         [13, 13, 13, 13, 13, 13, 13, 13, 13, 13],\n",
       "         [12, 12, 12, 12, 12, 12, 12, 12, 12, 12],\n",
       "         [11, 11, 11, 11, 11, 11, 11, 11, 11, 11],\n",
       "         [10, 10, 10, 10, 10, 10, 10, 10, 10, 10],\n",
       "         [ 9,  9,  9,  9,  9,  9,  9,  9,  9,  9],\n",
       "         [ 8,  8,  8,  8,  8,  8,  8,  8,  8,  8]]),\n",
       " torch.Size([9, 10]))"
      ]
     },
     "execution_count": 56,
     "metadata": {},
     "output_type": "execute_result"
    }
   ],
   "source": [
    "tensorA,tensorA.shape"
   ]
  },
  {
   "cell_type": "code",
   "execution_count": 58,
   "id": "8bcba80e-ae60-42b1-8a58-83991e48fa4c",
   "metadata": {},
   "outputs": [
    {
     "data": {
      "text/plain": [
       "(tensor([[492, 492, 492, 492, 492, 492, 492, 492, 492, 492],\n",
       "         [492, 492, 492, 492, 492, 492, 492, 492, 492, 492],\n",
       "         [492, 492, 492, 492, 492, 492, 492, 492, 492, 492],\n",
       "         [492, 492, 492, 492, 492, 492, 492, 492, 492, 492],\n",
       "         [492, 492, 492, 492, 492, 492, 492, 492, 492, 492],\n",
       "         [492, 492, 492, 492, 492, 492, 492, 492, 492, 492],\n",
       "         [492, 492, 492, 492, 492, 492, 492, 492, 492, 492],\n",
       "         [492, 492, 492, 492, 492, 492, 492, 492, 492, 492],\n",
       "         [492, 492, 492, 492, 492, 492, 492, 492, 492, 492],\n",
       "         [492, 492, 492, 492, 492, 492, 492, 492, 492, 492]]),\n",
       " torch.Size([10, 10]))"
      ]
     },
     "execution_count": 58,
     "metadata": {},
     "output_type": "execute_result"
    }
   ],
   "source": [
    "b = torch.mm(tensorA.T,tensorB)\n",
    "b,b.shape"
   ]
  },
  {
   "cell_type": "code",
   "execution_count": null,
   "id": "9edc0924-d070-47f4-93c4-15595633a46e",
   "metadata": {},
   "outputs": [],
   "source": []
  }
 ],
 "metadata": {
  "kernelspec": {
   "display_name": "Python [conda env:test] *",
   "language": "python",
   "name": "conda-env-test-py"
  },
  "language_info": {
   "codemirror_mode": {
    "name": "ipython",
    "version": 3
   },
   "file_extension": ".py",
   "mimetype": "text/x-python",
   "name": "python",
   "nbconvert_exporter": "python",
   "pygments_lexer": "ipython3",
   "version": "3.11.9"
  }
 },
 "nbformat": 4,
 "nbformat_minor": 5
}
