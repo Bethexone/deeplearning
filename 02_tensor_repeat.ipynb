{
 "cells": [
  {
   "cell_type": "code",
   "execution_count": 1,
   "id": "fc8d1078-8a4f-42f3-b942-1aedda10b8dd",
   "metadata": {},
   "outputs": [],
   "source": [
    "import torch"
   ]
  },
  {
   "cell_type": "code",
   "execution_count": 2,
   "id": "871ae87d-ba40-4065-9cba-3100c9f25173",
   "metadata": {},
   "outputs": [
    {
     "data": {
      "text/plain": [
       "(tensor([0, 1, 2, 3, 4, 5, 6, 7, 8]),\n",
       " tensor([[0, 1, 2, 3, 4, 5, 6, 7, 8],\n",
       "         [0, 1, 2, 3, 4, 5, 6, 7, 8],\n",
       "         [0, 1, 2, 3, 4, 5, 6, 7, 8],\n",
       "         [0, 1, 2, 3, 4, 5, 6, 7, 8],\n",
       "         [0, 1, 2, 3, 4, 5, 6, 7, 8],\n",
       "         [0, 1, 2, 3, 4, 5, 6, 7, 8],\n",
       "         [0, 1, 2, 3, 4, 5, 6, 7, 8],\n",
       "         [0, 1, 2, 3, 4, 5, 6, 7, 8],\n",
       "         [0, 1, 2, 3, 4, 5, 6, 7, 8],\n",
       "         [0, 1, 2, 3, 4, 5, 6, 7, 8]]),\n",
       " tensor([[0, 0, 0, 0, 0, 0, 0, 0, 0, 0],\n",
       "         [1, 1, 1, 1, 1, 1, 1, 1, 1, 1],\n",
       "         [2, 2, 2, 2, 2, 2, 2, 2, 2, 2],\n",
       "         [3, 3, 3, 3, 3, 3, 3, 3, 3, 3],\n",
       "         [4, 4, 4, 4, 4, 4, 4, 4, 4, 4],\n",
       "         [5, 5, 5, 5, 5, 5, 5, 5, 5, 5],\n",
       "         [6, 6, 6, 6, 6, 6, 6, 6, 6, 6],\n",
       "         [7, 7, 7, 7, 7, 7, 7, 7, 7, 7],\n",
       "         [8, 8, 8, 8, 8, 8, 8, 8, 8, 8]]),\n",
       " torch.Size([10, 9]),\n",
       " torch.Size([9, 10]))"
      ]
     },
     "execution_count": 2,
     "metadata": {},
     "output_type": "execute_result"
    }
   ],
   "source": [
    "rows = 9\n",
    "cols = 10\n",
    "\n",
    "# 使用 arange 创建行索引，然后用 repeat 扩展到矩阵大小\n",
    "tensor1 = torch.arange(rows)\n",
    "# repeat 参数：(重叠次数,重叠方向）\n",
    "tensor2 = tensor1.repeat(cols, 1)\n",
    "tensor = tensor2.T\n",
    "tensor1,tensor2,tensor,tensor2.shape,tensor.shape"
   ]
  },
  {
   "cell_type": "markdown",
   "id": "ed1efba9-d6e1-47df-929d-f2ba0954c79f",
   "metadata": {},
   "source": [
    "**repeat  按维度复制。参数说明：即每个维度重复的次数，若没有该维度，则拓展该维度为指定的重复次数**  \n",
    "**即，原形状为 [9] ,则repeat(10),新形状变为 [90]**  \n",
    "**原形状为 [2,3] ,则repeat(2,3),新形状变为 [4,9]**"
   ]
  },
  {
   "cell_type": "code",
   "execution_count": 3,
   "id": "dc243374-f3c8-4752-8a35-41543d5de2b3",
   "metadata": {},
   "outputs": [
    {
     "data": {
      "text/plain": [
       "(tensor([0, 1, 2, 3, 4, 5, 6, 7, 8]), torch.Size([9]))"
      ]
     },
     "execution_count": 3,
     "metadata": {},
     "output_type": "execute_result"
    }
   ],
   "source": [
    "tensor1,tensor1.shape"
   ]
  },
  {
   "cell_type": "code",
   "execution_count": 8,
   "id": "2fb7a96c-3958-4551-ae1e-e1404fa60392",
   "metadata": {},
   "outputs": [
    {
     "data": {
      "text/plain": [
       "(tensor([0, 1, 2, 3, 4, 5, 6, 7, 8, 0, 1, 2, 3, 4, 5, 6, 7, 8, 0, 1, 2, 3, 4, 5,\n",
       "         6, 7, 8, 0, 1, 2, 3, 4, 5, 6, 7, 8, 0, 1, 2, 3, 4, 5, 6, 7, 8, 0, 1, 2,\n",
       "         3, 4, 5, 6, 7, 8, 0, 1, 2, 3, 4, 5, 6, 7, 8, 0, 1, 2, 3, 4, 5, 6, 7, 8,\n",
       "         0, 1, 2, 3, 4, 5, 6, 7, 8, 0, 1, 2, 3, 4, 5, 6, 7, 8]),\n",
       " torch.Size([90]))"
      ]
     },
     "execution_count": 8,
     "metadata": {},
     "output_type": "execute_result"
    }
   ],
   "source": [
    "tensor2=tensor1.repeat(cols)\n",
    "tensor2,tensor2.shape"
   ]
  },
  {
   "cell_type": "code",
   "execution_count": 4,
   "id": "36883a9d-cb29-4de0-9d0f-ec85751d20d0",
   "metadata": {},
   "outputs": [
    {
     "data": {
      "text/plain": [
       "(tensor([[0, 1, 2, 3, 4, 5, 6, 7, 8],\n",
       "         [0, 1, 2, 3, 4, 5, 6, 7, 8],\n",
       "         [0, 1, 2, 3, 4, 5, 6, 7, 8],\n",
       "         [0, 1, 2, 3, 4, 5, 6, 7, 8],\n",
       "         [0, 1, 2, 3, 4, 5, 6, 7, 8],\n",
       "         [0, 1, 2, 3, 4, 5, 6, 7, 8],\n",
       "         [0, 1, 2, 3, 4, 5, 6, 7, 8],\n",
       "         [0, 1, 2, 3, 4, 5, 6, 7, 8],\n",
       "         [0, 1, 2, 3, 4, 5, 6, 7, 8],\n",
       "         [0, 1, 2, 3, 4, 5, 6, 7, 8]]),\n",
       " torch.Size([10, 9]))"
      ]
     },
     "execution_count": 4,
     "metadata": {},
     "output_type": "execute_result"
    }
   ],
   "source": [
    "tensor2=tensor1.repeat(cols,1)\n",
    "tensor2,tensor2.shape"
   ]
  },
  {
   "cell_type": "code",
   "execution_count": 5,
   "id": "a90a0c48-09ff-4f28-84e0-c3b83353dc32",
   "metadata": {},
   "outputs": [
    {
     "data": {
      "text/plain": [
       "(tensor([[0, 1, 2, 3, 4, 5, 6, 7, 8, 0, 1, 2, 3, 4, 5, 6, 7, 8, 0, 1, 2, 3, 4, 5,\n",
       "          6, 7, 8, 0, 1, 2, 3, 4, 5, 6, 7, 8, 0, 1, 2, 3, 4, 5, 6, 7, 8, 0, 1, 2,\n",
       "          3, 4, 5, 6, 7, 8, 0, 1, 2, 3, 4, 5, 6, 7, 8, 0, 1, 2, 3, 4, 5, 6, 7, 8,\n",
       "          0, 1, 2, 3, 4, 5, 6, 7, 8, 0, 1, 2, 3, 4, 5, 6, 7, 8]]),\n",
       " torch.Size([9]),\n",
       " torch.Size([1, 90]))"
      ]
     },
     "execution_count": 5,
     "metadata": {},
     "output_type": "execute_result"
    }
   ],
   "source": [
    "tensor2=tensor1.repeat(1,cols)\n",
    "tensor2,tensor1.shape,tensor2.shape"
   ]
  },
  {
   "cell_type": "code",
   "execution_count": 6,
   "id": "f326ab80-5f83-45f4-8450-139c846a4bd4",
   "metadata": {},
   "outputs": [
    {
     "data": {
      "text/plain": [
       "(tensor([[[0, 1, 2, 3, 4, 5, 6, 7, 8],\n",
       "          [0, 1, 2, 3, 4, 5, 6, 7, 8],\n",
       "          [0, 1, 2, 3, 4, 5, 6, 7, 8],\n",
       "          [0, 1, 2, 3, 4, 5, 6, 7, 8],\n",
       "          [0, 1, 2, 3, 4, 5, 6, 7, 8],\n",
       "          [0, 1, 2, 3, 4, 5, 6, 7, 8],\n",
       "          [0, 1, 2, 3, 4, 5, 6, 7, 8],\n",
       "          [0, 1, 2, 3, 4, 5, 6, 7, 8],\n",
       "          [0, 1, 2, 3, 4, 5, 6, 7, 8],\n",
       "          [0, 1, 2, 3, 4, 5, 6, 7, 8]]]),\n",
       " torch.Size([9]),\n",
       " torch.Size([1, 10, 9]))"
      ]
     },
     "execution_count": 6,
     "metadata": {},
     "output_type": "execute_result"
    }
   ],
   "source": [
    "tensor2=tensor1.repeat(1,cols,1)\n",
    "tensor2,tensor1.shape,tensor2.shape"
   ]
  },
  {
   "cell_type": "code",
   "execution_count": 7,
   "id": "5fc60f8c-ca58-47f9-a1e0-12e7273d074a",
   "metadata": {},
   "outputs": [
    {
     "data": {
      "text/plain": [
       "(tensor([[[0, 1, 2, 3, 4, 5, 6, 7, 8],\n",
       "          [0, 1, 2, 3, 4, 5, 6, 7, 8],\n",
       "          [0, 1, 2, 3, 4, 5, 6, 7, 8],\n",
       "          [0, 1, 2, 3, 4, 5, 6, 7, 8],\n",
       "          [0, 1, 2, 3, 4, 5, 6, 7, 8],\n",
       "          [0, 1, 2, 3, 4, 5, 6, 7, 8],\n",
       "          [0, 1, 2, 3, 4, 5, 6, 7, 8],\n",
       "          [0, 1, 2, 3, 4, 5, 6, 7, 8],\n",
       "          [0, 1, 2, 3, 4, 5, 6, 7, 8],\n",
       "          [0, 1, 2, 3, 4, 5, 6, 7, 8]],\n",
       " \n",
       "         [[0, 1, 2, 3, 4, 5, 6, 7, 8],\n",
       "          [0, 1, 2, 3, 4, 5, 6, 7, 8],\n",
       "          [0, 1, 2, 3, 4, 5, 6, 7, 8],\n",
       "          [0, 1, 2, 3, 4, 5, 6, 7, 8],\n",
       "          [0, 1, 2, 3, 4, 5, 6, 7, 8],\n",
       "          [0, 1, 2, 3, 4, 5, 6, 7, 8],\n",
       "          [0, 1, 2, 3, 4, 5, 6, 7, 8],\n",
       "          [0, 1, 2, 3, 4, 5, 6, 7, 8],\n",
       "          [0, 1, 2, 3, 4, 5, 6, 7, 8],\n",
       "          [0, 1, 2, 3, 4, 5, 6, 7, 8]]]),\n",
       " torch.Size([9]),\n",
       " torch.Size([2, 10, 9]))"
      ]
     },
     "execution_count": 7,
     "metadata": {},
     "output_type": "execute_result"
    }
   ],
   "source": [
    "tensor2=tensor1.repeat(2,cols,1)\n",
    "tensor2,tensor1.shape,tensor2.shape"
   ]
  },
  {
   "cell_type": "code",
   "execution_count": null,
   "id": "6f5d75a4-bae2-4d1c-95ac-2ca8d4def510",
   "metadata": {},
   "outputs": [],
   "source": []
  },
  {
   "cell_type": "code",
   "execution_count": null,
   "id": "6c418cb4-d6de-4a5a-a051-d73abbedb1e0",
   "metadata": {},
   "outputs": [],
   "source": []
  }
 ],
 "metadata": {
  "kernelspec": {
   "display_name": "Python 3 (ipykernel)",
   "language": "python",
   "name": "python3"
  },
  "language_info": {
   "codemirror_mode": {
    "name": "ipython",
    "version": 3
   },
   "file_extension": ".py",
   "mimetype": "text/x-python",
   "name": "python",
   "nbconvert_exporter": "python",
   "pygments_lexer": "ipython3",
   "version": "3.12.4"
  }
 },
 "nbformat": 4,
 "nbformat_minor": 5
}
